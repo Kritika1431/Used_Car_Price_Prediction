{
 "cells": [
  {
   "cell_type": "markdown",
   "id": "4Vt87rTOaQ6F",
   "metadata": {
    "id": "4Vt87rTOaQ6F"
   },
   "source": [
    "# Car Price Prediction\n",
    "\n",
    "Importing libraries"
   ]
  },
  {
   "cell_type": "code",
   "execution_count": 1,
   "id": "6573a28b",
   "metadata": {
    "id": "6573a28b"
   },
   "outputs": [],
   "source": [
    "\n",
    "import numpy as np                                # importing numpy numerical calculation\n",
    "import pandas as pd                                 # impoting pandas dataframe manipulation\n",
    "import warnings                                     # removing the warnings\n",
    "warnings.filterwarnings(\"ignore\")\n",
    "import seaborn as sns\n",
    "import matplotlib.pyplot as plt \n",
    "from sklearn.model_selection import train_test_split\n",
    "from sklearn.metrics import mean_squared_error\n",
    "from sklearn.ensemble import GradientBoostingRegressor\n",
    "\n",
    "\n"
   ]
  },
  {
   "cell_type": "code",
   "execution_count": 2,
   "id": "VClELlvq7zNh",
   "metadata": {
    "colab": {
     "base_uri": "https://localhost:8080/"
    },
    "id": "VClELlvq7zNh",
    "outputId": "d39fde36-7db8-4f0d-ab94-db9b5080d894"
   },
   "outputs": [],
   "source": [
    "#from google.colab import drive\n",
    "#drive.mount('/content/drive')"
   ]
  },
  {
   "cell_type": "markdown",
   "id": "IvGHsDx3bIFZ",
   "metadata": {
    "id": "IvGHsDx3bIFZ"
   },
   "source": [
    "Reading the Csv data file using pandas"
   ]
  },
  {
   "cell_type": "code",
   "execution_count": 3,
   "id": "5eb19ec4",
   "metadata": {
    "id": "5eb19ec4"
   },
   "outputs": [],
   "source": [
    "\n",
    "# Reading the two different csv files out of which second data set was having some bad line so skiped it\n",
    "\n",
    "car_data_1=pd.read_csv('true_car_listings.csv')\n",
    "\n",
    "car_data=car_data_1\n"
   ]
  },
  {
   "cell_type": "markdown",
   "id": "lm91tBtzbXWC",
   "metadata": {
    "id": "lm91tBtzbXWC"
   },
   "source": [
    "Checking the shape of dataframe"
   ]
  },
  {
   "cell_type": "code",
   "execution_count": 4,
   "id": "587305b3",
   "metadata": {
    "colab": {
     "base_uri": "https://localhost:8080/",
     "height": 224
    },
    "id": "587305b3",
    "outputId": "0b4d46da-adc6-4f14-cf76-b3217b1d3748"
   },
   "outputs": [
    {
     "name": "stdout",
     "output_type": "stream",
     "text": [
      "(852122, 8)\n"
     ]
    },
    {
     "data": {
      "text/html": [
       "<div>\n",
       "<style scoped>\n",
       "    .dataframe tbody tr th:only-of-type {\n",
       "        vertical-align: middle;\n",
       "    }\n",
       "\n",
       "    .dataframe tbody tr th {\n",
       "        vertical-align: top;\n",
       "    }\n",
       "\n",
       "    .dataframe thead th {\n",
       "        text-align: right;\n",
       "    }\n",
       "</style>\n",
       "<table border=\"1\" class=\"dataframe\">\n",
       "  <thead>\n",
       "    <tr style=\"text-align: right;\">\n",
       "      <th></th>\n",
       "      <th>Price</th>\n",
       "      <th>Year</th>\n",
       "      <th>Mileage</th>\n",
       "      <th>City</th>\n",
       "      <th>State</th>\n",
       "      <th>Vin</th>\n",
       "      <th>Make</th>\n",
       "      <th>Model</th>\n",
       "    </tr>\n",
       "  </thead>\n",
       "  <tbody>\n",
       "    <tr>\n",
       "      <th>0</th>\n",
       "      <td>8995</td>\n",
       "      <td>2014</td>\n",
       "      <td>35725</td>\n",
       "      <td>El Paso</td>\n",
       "      <td>TX</td>\n",
       "      <td>19VDE2E53EE000083</td>\n",
       "      <td>Acura</td>\n",
       "      <td>ILX6-Speed</td>\n",
       "    </tr>\n",
       "    <tr>\n",
       "      <th>1</th>\n",
       "      <td>10888</td>\n",
       "      <td>2013</td>\n",
       "      <td>19606</td>\n",
       "      <td>Long Island City</td>\n",
       "      <td>NY</td>\n",
       "      <td>19VDE1F52DE012636</td>\n",
       "      <td>Acura</td>\n",
       "      <td>ILX5-Speed</td>\n",
       "    </tr>\n",
       "    <tr>\n",
       "      <th>2</th>\n",
       "      <td>8995</td>\n",
       "      <td>2013</td>\n",
       "      <td>48851</td>\n",
       "      <td>El Paso</td>\n",
       "      <td>TX</td>\n",
       "      <td>19VDE2E52DE000025</td>\n",
       "      <td>Acura</td>\n",
       "      <td>ILX6-Speed</td>\n",
       "    </tr>\n",
       "    <tr>\n",
       "      <th>3</th>\n",
       "      <td>10999</td>\n",
       "      <td>2014</td>\n",
       "      <td>39922</td>\n",
       "      <td>Windsor</td>\n",
       "      <td>CO</td>\n",
       "      <td>19VDE1F71EE003817</td>\n",
       "      <td>Acura</td>\n",
       "      <td>ILX5-Speed</td>\n",
       "    </tr>\n",
       "    <tr>\n",
       "      <th>4</th>\n",
       "      <td>14799</td>\n",
       "      <td>2016</td>\n",
       "      <td>22142</td>\n",
       "      <td>Lindon</td>\n",
       "      <td>UT</td>\n",
       "      <td>19UDE2F32GA001284</td>\n",
       "      <td>Acura</td>\n",
       "      <td>ILXAutomatic</td>\n",
       "    </tr>\n",
       "  </tbody>\n",
       "</table>\n",
       "</div>"
      ],
      "text/plain": [
       "   Price  Year  Mileage              City State                Vin   Make  \\\n",
       "0   8995  2014    35725           El Paso    TX  19VDE2E53EE000083  Acura   \n",
       "1  10888  2013    19606  Long Island City    NY  19VDE1F52DE012636  Acura   \n",
       "2   8995  2013    48851           El Paso    TX  19VDE2E52DE000025  Acura   \n",
       "3  10999  2014    39922           Windsor    CO  19VDE1F71EE003817  Acura   \n",
       "4  14799  2016    22142            Lindon    UT  19UDE2F32GA001284  Acura   \n",
       "\n",
       "          Model  \n",
       "0    ILX6-Speed  \n",
       "1    ILX5-Speed  \n",
       "2    ILX6-Speed  \n",
       "3    ILX5-Speed  \n",
       "4  ILXAutomatic  "
      ]
     },
     "execution_count": 4,
     "metadata": {},
     "output_type": "execute_result"
    }
   ],
   "source": [
    "# checking the total number of rows and columns\n",
    "print(car_data.shape)\n",
    "car_data.head()"
   ]
  },
  {
   "cell_type": "markdown",
   "id": "NbmfRAVibb9o",
   "metadata": {
    "id": "NbmfRAVibb9o"
   },
   "source": [
    "Checking for null values in the dataframe"
   ]
  },
  {
   "cell_type": "code",
   "execution_count": 5,
   "id": "829b6396",
   "metadata": {
    "colab": {
     "base_uri": "https://localhost:8080/"
    },
    "id": "829b6396",
    "outputId": "c5b2cfaa-c1ca-4bcb-d6ac-a266b4760de0",
    "scrolled": true
   },
   "outputs": [
    {
     "data": {
      "text/plain": [
       "Price      0.0\n",
       "Year       0.0\n",
       "Mileage    0.0\n",
       "City         0\n",
       "State        0\n",
       "Vin          0\n",
       "Make         0\n",
       "Model        0\n",
       "dtype: object"
      ]
     },
     "execution_count": 5,
     "metadata": {},
     "output_type": "execute_result"
    }
   ],
   "source": [
    "# we can find that there is no null values in each particular columns \n",
    "car_data[car_data.isnull()].sum()"
   ]
  },
  {
   "cell_type": "code",
   "execution_count": 6,
   "id": "87_krSmQEA-w",
   "metadata": {
    "colab": {
     "base_uri": "https://localhost:8080/",
     "height": 300
    },
    "id": "87_krSmQEA-w",
    "outputId": "366861e2-3dd7-4f7a-ddf3-851d8a4d1305"
   },
   "outputs": [
    {
     "data": {
      "text/html": [
       "<div>\n",
       "<style scoped>\n",
       "    .dataframe tbody tr th:only-of-type {\n",
       "        vertical-align: middle;\n",
       "    }\n",
       "\n",
       "    .dataframe tbody tr th {\n",
       "        vertical-align: top;\n",
       "    }\n",
       "\n",
       "    .dataframe thead th {\n",
       "        text-align: right;\n",
       "    }\n",
       "</style>\n",
       "<table border=\"1\" class=\"dataframe\">\n",
       "  <thead>\n",
       "    <tr style=\"text-align: right;\">\n",
       "      <th></th>\n",
       "      <th>Price</th>\n",
       "      <th>Year</th>\n",
       "      <th>Mileage</th>\n",
       "    </tr>\n",
       "  </thead>\n",
       "  <tbody>\n",
       "    <tr>\n",
       "      <th>count</th>\n",
       "      <td>852122.000000</td>\n",
       "      <td>852122.000000</td>\n",
       "      <td>8.521220e+05</td>\n",
       "    </tr>\n",
       "    <tr>\n",
       "      <th>mean</th>\n",
       "      <td>21464.100210</td>\n",
       "      <td>2013.289145</td>\n",
       "      <td>5.250779e+04</td>\n",
       "    </tr>\n",
       "    <tr>\n",
       "      <th>std</th>\n",
       "      <td>13596.202241</td>\n",
       "      <td>3.414987</td>\n",
       "      <td>4.198896e+04</td>\n",
       "    </tr>\n",
       "    <tr>\n",
       "      <th>min</th>\n",
       "      <td>1500.000000</td>\n",
       "      <td>1997.000000</td>\n",
       "      <td>5.000000e+00</td>\n",
       "    </tr>\n",
       "    <tr>\n",
       "      <th>25%</th>\n",
       "      <td>13000.000000</td>\n",
       "      <td>2012.000000</td>\n",
       "      <td>2.383600e+04</td>\n",
       "    </tr>\n",
       "    <tr>\n",
       "      <th>50%</th>\n",
       "      <td>18500.000000</td>\n",
       "      <td>2014.000000</td>\n",
       "      <td>4.025600e+04</td>\n",
       "    </tr>\n",
       "    <tr>\n",
       "      <th>75%</th>\n",
       "      <td>26995.000000</td>\n",
       "      <td>2016.000000</td>\n",
       "      <td>7.218600e+04</td>\n",
       "    </tr>\n",
       "    <tr>\n",
       "      <th>max</th>\n",
       "      <td>499500.000000</td>\n",
       "      <td>2018.000000</td>\n",
       "      <td>2.856196e+06</td>\n",
       "    </tr>\n",
       "  </tbody>\n",
       "</table>\n",
       "</div>"
      ],
      "text/plain": [
       "               Price           Year       Mileage\n",
       "count  852122.000000  852122.000000  8.521220e+05\n",
       "mean    21464.100210    2013.289145  5.250779e+04\n",
       "std     13596.202241       3.414987  4.198896e+04\n",
       "min      1500.000000    1997.000000  5.000000e+00\n",
       "25%     13000.000000    2012.000000  2.383600e+04\n",
       "50%     18500.000000    2014.000000  4.025600e+04\n",
       "75%     26995.000000    2016.000000  7.218600e+04\n",
       "max    499500.000000    2018.000000  2.856196e+06"
      ]
     },
     "execution_count": 6,
     "metadata": {},
     "output_type": "execute_result"
    }
   ],
   "source": [
    "car_data.describe()"
   ]
  },
  {
   "cell_type": "markdown",
   "id": "MF-sjPUXbm10",
   "metadata": {
    "id": "MF-sjPUXbm10"
   },
   "source": [
    " Checking the info of the dataframe"
   ]
  },
  {
   "cell_type": "code",
   "execution_count": 7,
   "id": "pwakSBt4a77v",
   "metadata": {
    "colab": {
     "base_uri": "https://localhost:8080/"
    },
    "id": "pwakSBt4a77v",
    "outputId": "4802d118-6389-475f-c43b-358f49a5e3c7"
   },
   "outputs": [
    {
     "name": "stdout",
     "output_type": "stream",
     "text": [
      "<class 'pandas.core.frame.DataFrame'>\n",
      "RangeIndex: 852122 entries, 0 to 852121\n",
      "Data columns (total 8 columns):\n",
      " #   Column   Non-Null Count   Dtype \n",
      "---  ------   --------------   ----- \n",
      " 0   Price    852122 non-null  int64 \n",
      " 1   Year     852122 non-null  int64 \n",
      " 2   Mileage  852122 non-null  int64 \n",
      " 3   City     852122 non-null  object\n",
      " 4   State    852122 non-null  object\n",
      " 5   Vin      852122 non-null  object\n",
      " 6   Make     852122 non-null  object\n",
      " 7   Model    852122 non-null  object\n",
      "dtypes: int64(3), object(5)\n",
      "memory usage: 52.0+ MB\n"
     ]
    }
   ],
   "source": [
    "car_data.info()"
   ]
  },
  {
   "cell_type": "markdown",
   "id": "zK9rFYFzcqtB",
   "metadata": {
    "id": "zK9rFYFzcqtB"
   },
   "source": [
    "# Removing outlier from data frame\n",
    "\n",
    "---\n",
    "\n",
    "\n",
    "\n",
    "---\n",
    "\n"
   ]
  },
  {
   "cell_type": "code",
   "execution_count": 8,
   "id": "f1e258c0",
   "metadata": {
    "colab": {
     "base_uri": "https://localhost:8080/",
     "height": 458
    },
    "id": "f1e258c0",
    "outputId": "31536ab8-6333-472c-f803-8adcaa860286",
    "scrolled": true
   },
   "outputs": [
    {
     "data": {
      "image/png": "[encoded data removed]",
      "text/plain": [
       "<Figure size 864x432 with 2 Axes>"
      ]
     },
     "metadata": {
      "needs_background": "light"
     },
     "output_type": "display_data"
    },
    {
     "name": "stdout",
     "output_type": "stream",
     "text": [
      "(852122, 8)\n"
     ]
    }
   ],
   "source": [
    "fig, axes = plt.subplots(1,2,figsize=(12,6))\n",
    "# Distribution of price\n",
    "sns.distplot(car_data['Price'],color='r',ax=axes[0])\n",
    "sns.boxplot(y=car_data['Price'],color='r',ax=axes[1])\n",
    "axes[0].set_title('Distribution of Price with outliers')\n",
    "axes[1].set_title('Box plot of Price')\n",
    "plt.tight_layout()\n",
    "plt.show()\n",
    "print(car_data.shape)\n",
    "# we can find there are a lot of outlier in 'Price' column dataframe we need to remove it\n"
   ]
  },
  {
   "cell_type": "code",
   "execution_count": 9,
   "id": "abfa2f43",
   "metadata": {
    "colab": {
     "base_uri": "https://localhost:8080/",
     "height": 458
    },
    "id": "abfa2f43",
    "outputId": "3aba6d58-18c8-45ee-90b4-2910fde85186"
   },
   "outputs": [
    {
     "data": {
      "image/png": "[encoded data removed]",
      "text/plain": [
       "<Figure size 864x432 with 2 Axes>"
      ]
     },
     "metadata": {
      "needs_background": "light"
     },
     "output_type": "display_data"
    },
    {
     "name": "stdout",
     "output_type": "stream",
     "text": [
      "(843596, 8)\n"
     ]
    }
   ],
   "source": [
    "max_threshold=car_data['Price'].quantile(0.99)\n",
    "car_data=car_data[car_data['Price']<max_threshold]\n",
    "\n",
    "# Distribution of price\n",
    "fig, axes = plt.subplots(1,2,figsize=(12,6))\n",
    "sns.distplot(car_data['Price'],color='r',ax=axes[0])\n",
    "sns.boxplot(y=car_data['Price'],color='r',ax=axes[1])\n",
    "axes[0].set_title('Distribution of Price without outliers')\n",
    "axes[1].set_title('Box plot of Price')\n",
    "plt.tight_layout()\n",
    "plt.show()\n",
    "print(car_data.shape)   \n",
    "# we can find lots of outlier have been removed from 'Price' \n",
    "# -- which is our target variable"
   ]
  },
  {
   "cell_type": "code",
   "execution_count": 10,
   "id": "d8b81188",
   "metadata": {
    "colab": {
     "base_uri": "https://localhost:8080/",
     "height": 458
    },
    "id": "d8b81188",
    "outputId": "0d75eb59-b542-4391-d287-7bec3add0d91"
   },
   "outputs": [
    {
     "data": {
      "image/png": "[encoded data removed]",
      "text/plain": [
       "<Figure size 864x432 with 2 Axes>"
      ]
     },
     "metadata": {
      "needs_background": "light"
     },
     "output_type": "display_data"
    },
    {
     "name": "stdout",
     "output_type": "stream",
     "text": [
      "(843596, 8)\n"
     ]
    }
   ],
   "source": [
    "fig, axes = plt.subplots(1,2,figsize=(12,6))\n",
    "# Distribution of Year\n",
    "sns.distplot(car_data['Year'],color='r',ax=axes[0])\n",
    "sns.boxplot(y=car_data['Year'],color='r',ax=axes[1])\n",
    "axes[0].set_title('Distribution of Year with outliers')\n",
    "axes[1].set_title('Box plot of Year')\n",
    "plt.tight_layout()\n",
    "plt.show()\n",
    "print(car_data.shape)\n",
    "# we can find there are a lot of outlier in 'year' column dataframe we need to remove it"
   ]
  },
  {
   "cell_type": "code",
   "execution_count": 11,
   "id": "3ea2f6aa",
   "metadata": {
    "colab": {
     "base_uri": "https://localhost:8080/",
     "height": 458
    },
    "id": "3ea2f6aa",
    "outputId": "a0de1e1b-00fd-4efd-f970-07b37b724151"
   },
   "outputs": [
    {
     "data": {
      "image/png": "[encoded data removed]",
      "text/plain": [
       "<Figure size 864x432 with 2 Axes>"
      ]
     },
     "metadata": {
      "needs_background": "light"
     },
     "output_type": "display_data"
    },
    {
     "name": "stdout",
     "output_type": "stream",
     "text": [
      "(843596, 8)\n"
     ]
    }
   ],
   "source": [
    "fig, axes = plt.subplots(1,2,figsize=(12,6))\n",
    "# Distribution of Mileage\n",
    "sns.distplot(car_data['Mileage'],color='r',ax=axes[0])\n",
    "sns.boxplot(y=car_data['Mileage'],color='r',ax=axes[1])\n",
    "axes[0].set_title('Distribution of Mileage with outliers')\n",
    "axes[1].set_title('Box plot of Mileage')\n",
    "plt.tight_layout()\n",
    "plt.show()\n",
    "print(car_data.shape)\n",
    "# we can find there are a lot of outlier in our 'Mileage' column dataframe we need to remove it"
   ]
  },
  {
   "cell_type": "code",
   "execution_count": 12,
   "id": "UKV-3sltr6SR",
   "metadata": {
    "colab": {
     "base_uri": "https://localhost:8080/",
     "height": 458
    },
    "id": "UKV-3sltr6SR",
    "outputId": "11bdd2d1-aa06-4b93-96a1-39afc5de65b0"
   },
   "outputs": [
    {
     "data": {
      "image/png": "[encoded data removed]",
      "text/plain": [
       "<Figure size 864x432 with 2 Axes>"
      ]
     },
     "metadata": {
      "needs_background": "light"
     },
     "output_type": "display_data"
    },
    {
     "name": "stdout",
     "output_type": "stream",
     "text": [
      "(826724, 8)\n"
     ]
    }
   ],
   "source": [
    "max_threshold=car_data['Mileage'].quantile(0.98)\n",
    "car_data=car_data[car_data['Mileage']<max_threshold]\n",
    "\n",
    "# Distribution of Mileage\n",
    "fig, axes = plt.subplots(1,2,figsize=(12,6))\n",
    "sns.distplot(car_data['Mileage'],color='r',ax=axes[0])\n",
    "sns.boxplot(y=car_data['Mileage'],color='r',ax=axes[1])\n",
    "axes[0].set_title('Distribution of Mileage without outliers')\n",
    "axes[1].set_title('Box plot of Mileage')\n",
    "plt.tight_layout()\n",
    "plt.show()\n",
    "print(car_data.shape)\n",
    "# After removing 'Mileage' column outliers we can find most of the data have been represented"
   ]
  },
  {
   "cell_type": "markdown",
   "id": "INPzWVy0dYmF",
   "metadata": {
    "id": "INPzWVy0dYmF"
   },
   "source": [
    "# we have removed the outliers we can work on each columns :\n",
    "## 1 : we will try to univariate analysis :"
   ]
  },
  {
   "cell_type": "code",
   "execution_count": 13,
   "id": "a60GRQho9Dvr",
   "metadata": {
    "id": "a60GRQho9Dvr"
   },
   "outputs": [],
   "source": [
    "# Univariate analysis"
   ]
  },
  {
   "cell_type": "code",
   "execution_count": 14,
   "id": "_UTjIzY57yq7",
   "metadata": {
    "colab": {
     "base_uri": "https://localhost:8080/",
     "height": 613
    },
    "id": "_UTjIzY57yq7",
    "outputId": "594076b8-e0ef-4532-d479-4795fc4a4865"
   },
   "outputs": [
    {
     "data": {
      "image/png": "[encoded data removed]",
      "text/plain": [
       "<Figure size 864x576 with 2 Axes>"
      ]
     },
     "metadata": {
      "needs_background": "light"
     },
     "output_type": "display_data"
    }
   ],
   "source": [
    "# Analysis for getting which year old vechile we have more\n",
    "\n",
    "fig, axes = plt.subplots(1,2,figsize=(12,8))\n",
    "sns.countplot(y=car_data['Year'],ax=axes[0],order = car_data['Year'].value_counts().index)\n",
    "sns.countplot(y=car_data['Make'],ax=axes[1],order = car_data['Make'].value_counts().index)\n",
    "\n",
    "plt.tight_layout()\n",
    "plt.xticks(rotation=90)\n",
    "plt.show()"
   ]
  },
  {
   "cell_type": "markdown",
   "id": "f41hoLsHguRD",
   "metadata": {
    "id": "f41hoLsHguRD"
   },
   "source": [
    " We can find that most of the old vehicle that we have are in the years between 2014,2015,2016,2017,2013\n",
    ", \n",
    "we can also find most of the cars are from Ford , chevrolet , nissan , toyota car maker companies"
   ]
  },
  {
   "cell_type": "code",
   "execution_count": 15,
   "id": "2-JgrMb7-RQ4",
   "metadata": {
    "colab": {
     "base_uri": "https://localhost:8080/",
     "height": 507
    },
    "id": "2-JgrMb7-RQ4",
    "outputId": "f9a57864-0bf7-4046-bf5c-019c5d247fae"
   },
   "outputs": [
    {
     "data": {
      "image/png": "[encoded data removed]",
      "text/plain": [
       "<Figure size 864x576 with 1 Axes>"
      ]
     },
     "metadata": {
      "needs_background": "light"
     },
     "output_type": "display_data"
    }
   ],
   "source": [
    "plt.figure(figsize=[12,8])\n",
    "sns.countplot(car_data['State'],order = car_data['State'].value_counts().index);\n",
    "plt.xticks(rotation=90)\n",
    "plt.show()\n"
   ]
  },
  {
   "cell_type": "markdown",
   "id": "3yc7XceIdp1N",
   "metadata": {
    "id": "3yc7XceIdp1N"
   },
   "source": [
    "We can find most of the cars are from state TX, CA , FL,IL"
   ]
  },
  {
   "cell_type": "code",
   "execution_count": 16,
   "id": "W3cmD_rWwt1L",
   "metadata": {
    "colab": {
     "base_uri": "https://localhost:8080/"
    },
    "id": "W3cmD_rWwt1L",
    "outputId": "64a865cb-b180-4979-c5ff-251314e382eb"
   },
   "outputs": [
    {
     "name": "stdout",
     "output_type": "stream",
     "text": [
      "Total 2553 Cities\n",
      "Total 59 State\n",
      "Total 2576 Model\n",
      "Total 53 Make\n"
     ]
    }
   ],
   "source": [
    "Total_City= car_data.pivot_table(columns=['City'], aggfunc='size').sort_values(ascending=False)\n",
    "Total_State= car_data.pivot_table(columns=['State'], aggfunc='size').sort_values(ascending=False)\n",
    "Total_Model= car_data.pivot_table(columns=['Model'], aggfunc='size').sort_values(ascending=False)\n",
    "Total_Make= car_data.pivot_table(columns=['Make'], aggfunc='size').sort_values(ascending=False)\n",
    "\n",
    "print(\"Total\",Total_City.shape[0],'Cities')\n",
    "print(\"Total\",Total_State.shape[0],'State')\n",
    "print(\"Total\",Total_Model.shape[0],'Model')\n",
    "print(\"Total\",Total_Make.shape[0],'Make')\n"
   ]
  },
  {
   "cell_type": "code",
   "execution_count": 17,
   "id": "6ad20407",
   "metadata": {},
   "outputs": [],
   "source": [
    "ts=pd.DataFrame(Total_Make)"
   ]
  },
  {
   "cell_type": "code",
   "execution_count": 18,
   "id": "546696d7",
   "metadata": {
    "scrolled": true
   },
   "outputs": [
    {
     "name": "stdout",
     "output_type": "stream",
     "text": [
      "DataFrame is written to Excel File successfully.\n"
     ]
    }
   ],
   "source": [
    "file_name = 'make.xlsx'\n",
    "# saving the excel\n",
    "ts.to_excel(file_name)\n",
    "print('DataFrame is written to Excel File successfully.')"
   ]
  },
  {
   "cell_type": "code",
   "execution_count": null,
   "id": "9a1e030a",
   "metadata": {},
   "outputs": [],
   "source": []
  },
  {
   "cell_type": "code",
   "execution_count": null,
   "id": "67b0685b",
   "metadata": {},
   "outputs": [],
   "source": []
  },
  {
   "cell_type": "markdown",
   "id": "MrkjfZRJNfGk",
   "metadata": {
    "id": "MrkjfZRJNfGk"
   },
   "source": [
    "Creating two derived columns Current year and condition (Lower the value od car condition better the car)"
   ]
  },
  {
   "cell_type": "code",
   "execution_count": 19,
   "id": "qatXWrlqNG3j",
   "metadata": {
    "colab": {
     "base_uri": "https://localhost:8080/",
     "height": 206
    },
    "id": "qatXWrlqNG3j",
    "outputId": "13e0db09-a27a-4ea2-c6ab-9005bebad7ba"
   },
   "outputs": [
    {
     "data": {
      "text/html": [
       "<div>\n",
       "<style scoped>\n",
       "    .dataframe tbody tr th:only-of-type {\n",
       "        vertical-align: middle;\n",
       "    }\n",
       "\n",
       "    .dataframe tbody tr th {\n",
       "        vertical-align: top;\n",
       "    }\n",
       "\n",
       "    .dataframe thead th {\n",
       "        text-align: right;\n",
       "    }\n",
       "</style>\n",
       "<table border=\"1\" class=\"dataframe\">\n",
       "  <thead>\n",
       "    <tr style=\"text-align: right;\">\n",
       "      <th></th>\n",
       "      <th>Price</th>\n",
       "      <th>Year</th>\n",
       "      <th>Mileage</th>\n",
       "      <th>City</th>\n",
       "      <th>State</th>\n",
       "      <th>Vin</th>\n",
       "      <th>Make</th>\n",
       "      <th>Model</th>\n",
       "      <th>Year_used</th>\n",
       "      <th>Condition</th>\n",
       "    </tr>\n",
       "  </thead>\n",
       "  <tbody>\n",
       "    <tr>\n",
       "      <th>0</th>\n",
       "      <td>8995</td>\n",
       "      <td>2014</td>\n",
       "      <td>35725</td>\n",
       "      <td>El Paso</td>\n",
       "      <td>TX</td>\n",
       "      <td>19VDE2E53EE000083</td>\n",
       "      <td>Acura</td>\n",
       "      <td>ILX6-Speed</td>\n",
       "      <td>8</td>\n",
       "      <td>4465.625000</td>\n",
       "    </tr>\n",
       "    <tr>\n",
       "      <th>1</th>\n",
       "      <td>10888</td>\n",
       "      <td>2013</td>\n",
       "      <td>19606</td>\n",
       "      <td>Long Island City</td>\n",
       "      <td>NY</td>\n",
       "      <td>19VDE1F52DE012636</td>\n",
       "      <td>Acura</td>\n",
       "      <td>ILX5-Speed</td>\n",
       "      <td>9</td>\n",
       "      <td>2178.444444</td>\n",
       "    </tr>\n",
       "    <tr>\n",
       "      <th>2</th>\n",
       "      <td>8995</td>\n",
       "      <td>2013</td>\n",
       "      <td>48851</td>\n",
       "      <td>El Paso</td>\n",
       "      <td>TX</td>\n",
       "      <td>19VDE2E52DE000025</td>\n",
       "      <td>Acura</td>\n",
       "      <td>ILX6-Speed</td>\n",
       "      <td>9</td>\n",
       "      <td>5427.888889</td>\n",
       "    </tr>\n",
       "    <tr>\n",
       "      <th>3</th>\n",
       "      <td>10999</td>\n",
       "      <td>2014</td>\n",
       "      <td>39922</td>\n",
       "      <td>Windsor</td>\n",
       "      <td>CO</td>\n",
       "      <td>19VDE1F71EE003817</td>\n",
       "      <td>Acura</td>\n",
       "      <td>ILX5-Speed</td>\n",
       "      <td>8</td>\n",
       "      <td>4990.250000</td>\n",
       "    </tr>\n",
       "    <tr>\n",
       "      <th>4</th>\n",
       "      <td>14799</td>\n",
       "      <td>2016</td>\n",
       "      <td>22142</td>\n",
       "      <td>Lindon</td>\n",
       "      <td>UT</td>\n",
       "      <td>19UDE2F32GA001284</td>\n",
       "      <td>Acura</td>\n",
       "      <td>ILXAutomatic</td>\n",
       "      <td>6</td>\n",
       "      <td>3690.333333</td>\n",
       "    </tr>\n",
       "  </tbody>\n",
       "</table>\n",
       "</div>"
      ],
      "text/plain": [
       "   Price  Year  Mileage              City State                Vin   Make  \\\n",
       "0   8995  2014    35725           El Paso    TX  19VDE2E53EE000083  Acura   \n",
       "1  10888  2013    19606  Long Island City    NY  19VDE1F52DE012636  Acura   \n",
       "2   8995  2013    48851           El Paso    TX  19VDE2E52DE000025  Acura   \n",
       "3  10999  2014    39922           Windsor    CO  19VDE1F71EE003817  Acura   \n",
       "4  14799  2016    22142            Lindon    UT  19UDE2F32GA001284  Acura   \n",
       "\n",
       "          Model  Year_used    Condition  \n",
       "0    ILX6-Speed          8  4465.625000  \n",
       "1    ILX5-Speed          9  2178.444444  \n",
       "2    ILX6-Speed          9  5427.888889  \n",
       "3    ILX5-Speed          8  4990.250000  \n",
       "4  ILXAutomatic          6  3690.333333  "
      ]
     },
     "execution_count": 19,
     "metadata": {},
     "output_type": "execute_result"
    }
   ],
   "source": [
    "Current_year=2022\n",
    "\n",
    "car_data['Year_used']=(Current_year-car_data['Year'])\n",
    "\n",
    "car_data['Condition']=(car_data['Mileage']/car_data['Year_used'])\n",
    "\n",
    "car_data.head()\n"
   ]
  },
  {
   "cell_type": "markdown",
   "id": "oW9w-UTPNw3q",
   "metadata": {
    "id": "oW9w-UTPNw3q"
   },
   "source": [
    "Dropping the Vin column founded to be on no use"
   ]
  },
  {
   "cell_type": "code",
   "execution_count": 20,
   "id": "EHdOklYZ3l1G",
   "metadata": {
    "id": "EHdOklYZ3l1G"
   },
   "outputs": [],
   "source": [
    "car_data.drop(columns='Vin',inplace=True)\n",
    "\n"
   ]
  },
  {
   "cell_type": "code",
   "execution_count": 21,
   "id": "RVbQyQLvQGTw",
   "metadata": {
    "colab": {
     "base_uri": "https://localhost:8080/",
     "height": 300
    },
    "id": "RVbQyQLvQGTw",
    "outputId": "5726ff2b-058b-4c46-b0e2-322cfd7022cd"
   },
   "outputs": [
    {
     "data": {
      "text/html": [
       "<div>\n",
       "<style scoped>\n",
       "    .dataframe tbody tr th:only-of-type {\n",
       "        vertical-align: middle;\n",
       "    }\n",
       "\n",
       "    .dataframe tbody tr th {\n",
       "        vertical-align: top;\n",
       "    }\n",
       "\n",
       "    .dataframe thead th {\n",
       "        text-align: right;\n",
       "    }\n",
       "</style>\n",
       "<table border=\"1\" class=\"dataframe\">\n",
       "  <thead>\n",
       "    <tr style=\"text-align: right;\">\n",
       "      <th></th>\n",
       "      <th>Price</th>\n",
       "      <th>Year</th>\n",
       "      <th>Mileage</th>\n",
       "      <th>Year_used</th>\n",
       "      <th>Condition</th>\n",
       "    </tr>\n",
       "  </thead>\n",
       "  <tbody>\n",
       "    <tr>\n",
       "      <th>count</th>\n",
       "      <td>826724.000000</td>\n",
       "      <td>826724.000000</td>\n",
       "      <td>826724.000000</td>\n",
       "      <td>826724.000000</td>\n",
       "      <td>826724.000000</td>\n",
       "    </tr>\n",
       "    <tr>\n",
       "      <th>mean</th>\n",
       "      <td>21008.595685</td>\n",
       "      <td>2013.435411</td>\n",
       "      <td>49866.119674</td>\n",
       "      <td>8.564589</td>\n",
       "      <td>5437.932315</td>\n",
       "    </tr>\n",
       "    <tr>\n",
       "      <th>std</th>\n",
       "      <td>10502.912427</td>\n",
       "      <td>3.215227</td>\n",
       "      <td>35565.529267</td>\n",
       "      <td>3.215227</td>\n",
       "      <td>2788.801696</td>\n",
       "    </tr>\n",
       "    <tr>\n",
       "      <th>min</th>\n",
       "      <td>1500.000000</td>\n",
       "      <td>1997.000000</td>\n",
       "      <td>5.000000</td>\n",
       "      <td>4.000000</td>\n",
       "      <td>0.250000</td>\n",
       "    </tr>\n",
       "    <tr>\n",
       "      <th>25%</th>\n",
       "      <td>13495.000000</td>\n",
       "      <td>2012.000000</td>\n",
       "      <td>23844.000000</td>\n",
       "      <td>6.000000</td>\n",
       "      <td>3426.333333</td>\n",
       "    </tr>\n",
       "    <tr>\n",
       "      <th>50%</th>\n",
       "      <td>18597.000000</td>\n",
       "      <td>2014.000000</td>\n",
       "      <td>39884.500000</td>\n",
       "      <td>8.000000</td>\n",
       "      <td>5234.857143</td>\n",
       "    </tr>\n",
       "    <tr>\n",
       "      <th>75%</th>\n",
       "      <td>26990.000000</td>\n",
       "      <td>2016.000000</td>\n",
       "      <td>69915.000000</td>\n",
       "      <td>10.000000</td>\n",
       "      <td>7209.279545</td>\n",
       "    </tr>\n",
       "    <tr>\n",
       "      <th>max</th>\n",
       "      <td>60987.000000</td>\n",
       "      <td>2018.000000</td>\n",
       "      <td>165156.000000</td>\n",
       "      <td>25.000000</td>\n",
       "      <td>31374.600000</td>\n",
       "    </tr>\n",
       "  </tbody>\n",
       "</table>\n",
       "</div>"
      ],
      "text/plain": [
       "               Price           Year        Mileage      Year_used  \\\n",
       "count  826724.000000  826724.000000  826724.000000  826724.000000   \n",
       "mean    21008.595685    2013.435411   49866.119674       8.564589   \n",
       "std     10502.912427       3.215227   35565.529267       3.215227   \n",
       "min      1500.000000    1997.000000       5.000000       4.000000   \n",
       "25%     13495.000000    2012.000000   23844.000000       6.000000   \n",
       "50%     18597.000000    2014.000000   39884.500000       8.000000   \n",
       "75%     26990.000000    2016.000000   69915.000000      10.000000   \n",
       "max     60987.000000    2018.000000  165156.000000      25.000000   \n",
       "\n",
       "           Condition  \n",
       "count  826724.000000  \n",
       "mean     5437.932315  \n",
       "std      2788.801696  \n",
       "min         0.250000  \n",
       "25%      3426.333333  \n",
       "50%      5234.857143  \n",
       "75%      7209.279545  \n",
       "max     31374.600000  "
      ]
     },
     "execution_count": 21,
     "metadata": {},
     "output_type": "execute_result"
    }
   ],
   "source": [
    "car_data.describe()"
   ]
  },
  {
   "cell_type": "markdown",
   "id": "duJ_Zxlad3Kx",
   "metadata": {
    "id": "duJ_Zxlad3Kx"
   },
   "source": [
    "Checking the unique number of data in cities and state as well as model and make "
   ]
  },
  {
   "cell_type": "markdown",
   "id": "g-uD1nz9hL4b",
   "metadata": {
    "id": "g-uD1nz9hL4b"
   },
   "source": [
    "Most of the cars that we have are from TX , CA , Fl states"
   ]
  },
  {
   "cell_type": "code",
   "execution_count": 22,
   "id": "9JqwdVSe0C87",
   "metadata": {
    "id": "9JqwdVSe0C87"
   },
   "outputs": [],
   "source": [
    "# Bivariate analysis \n",
    "# we can find that most of relation in continuos variable :\n",
    "# we find that there is a postive corelation between 'Price ' and 'Year'\n",
    "# we find that there is a negative corelation between 'Price ' and 'Mileage'\n"
   ]
  },
  {
   "cell_type": "code",
   "execution_count": 23,
   "id": "h5OkK8l9-Zok",
   "metadata": {
    "colab": {
     "base_uri": "https://localhost:8080/",
     "height": 379
    },
    "id": "h5OkK8l9-Zok",
    "outputId": "a3b27f1b-8b03-49a6-94b7-ec55f9b94910"
   },
   "outputs": [
    {
     "data": {
      "image/png": "[encoded data removed]",
      "text/plain": [
       "<Figure size 432x432 with 2 Axes>"
      ]
     },
     "metadata": {
      "needs_background": "light"
     },
     "output_type": "display_data"
    }
   ],
   "source": [
    "plt.figure(figsize=[6,6])\n",
    "sns.heatmap(car_data.corr(),  annot=True)\n",
    "plt.show()\n"
   ]
  },
  {
   "cell_type": "markdown",
   "id": "iUUTlTDLhdRh",
   "metadata": {
    "id": "iUUTlTDLhdRh"
   },
   "source": [
    "In this correlation we can find that mostly 'price' and 'year' are positive correlated (+0.48) and 'price' and \n",
    "'mileage' are negative correlated (-0.76)"
   ]
  },
  {
   "cell_type": "code",
   "execution_count": 24,
   "id": "YG1jC_CInOYh",
   "metadata": {
    "colab": {
     "base_uri": "https://localhost:8080/",
     "height": 349
    },
    "id": "YG1jC_CInOYh",
    "outputId": "aafaec46-5b4d-47e4-88d2-8c677e150c85"
   },
   "outputs": [
    {
     "data": {
      "image/png": "[encoded data removed]",
      "text/plain": [
       "<Figure size 576x360 with 1 Axes>"
      ]
     },
     "metadata": {
      "needs_background": "light"
     },
     "output_type": "display_data"
    }
   ],
   "source": [
    "plt.figure(figsize=[8,5])\n",
    "sns.boxplot(data=car_data, x='Year', y='Price', palette='muted')\n",
    "plt.xticks(rotation=90)\n",
    "plt.show()"
   ]
  },
  {
   "cell_type": "markdown",
   "id": "x9zH0ZOQeMI6",
   "metadata": {
    "id": "x9zH0ZOQeMI6"
   },
   "source": [
    "Through this box plot we can find the relation between year and price and we can conclude that we cannnot remove 2018 as outlier as it cointain high price value , we can remove the data below 2003 beacuse price are also too low less than 10 K"
   ]
  },
  {
   "cell_type": "code",
   "execution_count": 25,
   "id": "hlN9nvbTbGNU",
   "metadata": {
    "colab": {
     "base_uri": "https://localhost:8080/",
     "height": 398
    },
    "id": "hlN9nvbTbGNU",
    "outputId": "54d3ecb0-0f94-4a4a-c3ec-f2b3efd8a94e"
   },
   "outputs": [
    {
     "data": {
      "image/png": "[encoded data removed]",
      "text/plain": [
       "<Figure size 864x432 with 1 Axes>"
      ]
     },
     "metadata": {
      "needs_background": "light"
     },
     "output_type": "display_data"
    }
   ],
   "source": [
    "plt.figure(figsize=[12,6])\n",
    "sns.boxplot(data=car_data, x='State', y='Price', palette='muted')\n",
    "plt.xticks(rotation=90)\n",
    "plt.show()"
   ]
  },
  {
   "cell_type": "markdown",
   "id": "vDFdPDPSe57D",
   "metadata": {
    "id": "vDFdPDPSe57D"
   },
   "source": [
    "Through this we can find we can easily get rid of few states only which have very less price else mostly all the state are havign decent price"
   ]
  },
  {
   "cell_type": "code",
   "execution_count": 26,
   "id": "pUGEf2LQ0J1R",
   "metadata": {
    "id": "pUGEf2LQ0J1R"
   },
   "outputs": [],
   "source": [
    "#sns.pairplot(data=car_data,x_vars=['Year','Mileage'],y_vars='Price')"
   ]
  },
  {
   "cell_type": "markdown",
   "id": "jpSxtIVkfUnn",
   "metadata": {
    "id": "jpSxtIVkfUnn"
   },
   "source": [
    "Using the scatter trying to get how data is distributed among the year and mileage wrt to price which we finded that they are mostly distributed evenly"
   ]
  },
  {
   "cell_type": "code",
   "execution_count": 27,
   "id": "Xmd0pabKikV2",
   "metadata": {
    "id": "Xmd0pabKikV2"
   },
   "outputs": [],
   "source": [
    "#sns.regplot(x='Year',y='Price',data=car_data)"
   ]
  },
  {
   "cell_type": "markdown",
   "id": "F4DX1FdSeVfO",
   "metadata": {
    "id": "F4DX1FdSeVfO"
   },
   "source": [
    "#Encoding"
   ]
  },
  {
   "cell_type": "markdown",
   "id": "5p2xQeOuOelQ",
   "metadata": {
    "id": "5p2xQeOuOelQ"
   },
   "source": [
    "Importing the encoder module"
   ]
  },
  {
   "cell_type": "code",
   "execution_count": 28,
   "id": "R3Rc5LysSWqX",
   "metadata": {
    "colab": {
     "base_uri": "https://localhost:8080/"
    },
    "id": "R3Rc5LysSWqX",
    "outputId": "3f93211d-0be6-4add-b6f8-000b7a0d6f66"
   },
   "outputs": [
    {
     "name": "stdout",
     "output_type": "stream",
     "text": [
      "Requirement already satisfied: category_encoders in c:\\programdata\\anaconda3\\lib\\site-packages (2.4.0)\n",
      "Requirement already satisfied: pandas>=0.21.1 in c:\\programdata\\anaconda3\\lib\\site-packages (from category_encoders) (1.3.4)\n",
      "Requirement already satisfied: statsmodels>=0.9.0 in c:\\programdata\\anaconda3\\lib\\site-packages (from category_encoders) (0.12.2)\n",
      "Requirement already satisfied: scipy>=1.0.0 in c:\\programdata\\anaconda3\\lib\\site-packages (from category_encoders) (1.7.1)\n",
      "Requirement already satisfied: patsy>=0.5.1 in c:\\programdata\\anaconda3\\lib\\site-packages (from category_encoders) (0.5.2)\n",
      "Requirement already satisfied: scikit-learn>=0.20.0 in c:\\programdata\\anaconda3\\lib\\site-packages (from category_encoders) (0.24.2)\n",
      "Requirement already satisfied: numpy>=1.14.0 in c:\\programdata\\anaconda3\\lib\\site-packages (from category_encoders) (1.20.3)\n",
      "Requirement already satisfied: pytz>=2017.3 in c:\\programdata\\anaconda3\\lib\\site-packages (from pandas>=0.21.1->category_encoders) (2021.3)\n",
      "Requirement already satisfied: python-dateutil>=2.7.3 in c:\\programdata\\anaconda3\\lib\\site-packages (from pandas>=0.21.1->category_encoders) (2.8.2)\n",
      "Requirement already satisfied: six in c:\\programdata\\anaconda3\\lib\\site-packages (from patsy>=0.5.1->category_encoders) (1.16.0)\n",
      "Requirement already satisfied: joblib>=0.11 in c:\\programdata\\anaconda3\\lib\\site-packages (from scikit-learn>=0.20.0->category_encoders) (1.1.0)\n",
      "Requirement already satisfied: threadpoolctl>=2.0.0 in c:\\programdata\\anaconda3\\lib\\site-packages (from scikit-learn>=0.20.0->category_encoders) (2.2.0)\n",
      "Note: you may need to restart the kernel to use updated packages.\n"
     ]
    }
   ],
   "source": [
    "pip install category_encoders"
   ]
  },
  {
   "cell_type": "markdown",
   "id": "Bwn7YrxbOjdy",
   "metadata": {
    "id": "Bwn7YrxbOjdy"
   },
   "source": [
    "Using binary encording for categorical vaiable as our data is nominal and it suit best "
   ]
  },
  {
   "cell_type": "code",
   "execution_count": 29,
   "id": "CvWR-3kGIp8t",
   "metadata": {
    "colab": {
     "base_uri": "https://localhost:8080/",
     "height": 300
    },
    "id": "CvWR-3kGIp8t",
    "outputId": "3673b39c-1ce4-4fa0-8229-313e97f7b990"
   },
   "outputs": [
    {
     "data": {
      "text/html": [
       "<div>\n",
       "<style scoped>\n",
       "    .dataframe tbody tr th:only-of-type {\n",
       "        vertical-align: middle;\n",
       "    }\n",
       "\n",
       "    .dataframe tbody tr th {\n",
       "        vertical-align: top;\n",
       "    }\n",
       "\n",
       "    .dataframe thead th {\n",
       "        text-align: right;\n",
       "    }\n",
       "</style>\n",
       "<table border=\"1\" class=\"dataframe\">\n",
       "  <thead>\n",
       "    <tr style=\"text-align: right;\">\n",
       "      <th></th>\n",
       "      <th>Price</th>\n",
       "      <th>Year</th>\n",
       "      <th>Mileage</th>\n",
       "      <th>Year_used</th>\n",
       "      <th>Condition</th>\n",
       "      <th>City_0</th>\n",
       "      <th>City_1</th>\n",
       "      <th>City_2</th>\n",
       "      <th>City_3</th>\n",
       "      <th>City_4</th>\n",
       "      <th>...</th>\n",
       "      <th>Model_2</th>\n",
       "      <th>Model_3</th>\n",
       "      <th>Model_4</th>\n",
       "      <th>Model_5</th>\n",
       "      <th>Model_6</th>\n",
       "      <th>Model_7</th>\n",
       "      <th>Model_8</th>\n",
       "      <th>Model_9</th>\n",
       "      <th>Model_10</th>\n",
       "      <th>Model_11</th>\n",
       "    </tr>\n",
       "  </thead>\n",
       "  <tbody>\n",
       "    <tr>\n",
       "      <th>0</th>\n",
       "      <td>8995</td>\n",
       "      <td>2014</td>\n",
       "      <td>35725</td>\n",
       "      <td>8</td>\n",
       "      <td>4465.625000</td>\n",
       "      <td>0</td>\n",
       "      <td>0</td>\n",
       "      <td>0</td>\n",
       "      <td>0</td>\n",
       "      <td>0</td>\n",
       "      <td>...</td>\n",
       "      <td>0</td>\n",
       "      <td>0</td>\n",
       "      <td>0</td>\n",
       "      <td>0</td>\n",
       "      <td>0</td>\n",
       "      <td>0</td>\n",
       "      <td>0</td>\n",
       "      <td>0</td>\n",
       "      <td>0</td>\n",
       "      <td>1</td>\n",
       "    </tr>\n",
       "    <tr>\n",
       "      <th>1</th>\n",
       "      <td>10888</td>\n",
       "      <td>2013</td>\n",
       "      <td>19606</td>\n",
       "      <td>9</td>\n",
       "      <td>2178.444444</td>\n",
       "      <td>0</td>\n",
       "      <td>0</td>\n",
       "      <td>0</td>\n",
       "      <td>0</td>\n",
       "      <td>0</td>\n",
       "      <td>...</td>\n",
       "      <td>0</td>\n",
       "      <td>0</td>\n",
       "      <td>0</td>\n",
       "      <td>0</td>\n",
       "      <td>0</td>\n",
       "      <td>0</td>\n",
       "      <td>0</td>\n",
       "      <td>0</td>\n",
       "      <td>1</td>\n",
       "      <td>0</td>\n",
       "    </tr>\n",
       "    <tr>\n",
       "      <th>2</th>\n",
       "      <td>8995</td>\n",
       "      <td>2013</td>\n",
       "      <td>48851</td>\n",
       "      <td>9</td>\n",
       "      <td>5427.888889</td>\n",
       "      <td>0</td>\n",
       "      <td>0</td>\n",
       "      <td>0</td>\n",
       "      <td>0</td>\n",
       "      <td>0</td>\n",
       "      <td>...</td>\n",
       "      <td>0</td>\n",
       "      <td>0</td>\n",
       "      <td>0</td>\n",
       "      <td>0</td>\n",
       "      <td>0</td>\n",
       "      <td>0</td>\n",
       "      <td>0</td>\n",
       "      <td>0</td>\n",
       "      <td>0</td>\n",
       "      <td>1</td>\n",
       "    </tr>\n",
       "    <tr>\n",
       "      <th>3</th>\n",
       "      <td>10999</td>\n",
       "      <td>2014</td>\n",
       "      <td>39922</td>\n",
       "      <td>8</td>\n",
       "      <td>4990.250000</td>\n",
       "      <td>0</td>\n",
       "      <td>0</td>\n",
       "      <td>0</td>\n",
       "      <td>0</td>\n",
       "      <td>0</td>\n",
       "      <td>...</td>\n",
       "      <td>0</td>\n",
       "      <td>0</td>\n",
       "      <td>0</td>\n",
       "      <td>0</td>\n",
       "      <td>0</td>\n",
       "      <td>0</td>\n",
       "      <td>0</td>\n",
       "      <td>0</td>\n",
       "      <td>1</td>\n",
       "      <td>0</td>\n",
       "    </tr>\n",
       "    <tr>\n",
       "      <th>4</th>\n",
       "      <td>14799</td>\n",
       "      <td>2016</td>\n",
       "      <td>22142</td>\n",
       "      <td>6</td>\n",
       "      <td>3690.333333</td>\n",
       "      <td>0</td>\n",
       "      <td>0</td>\n",
       "      <td>0</td>\n",
       "      <td>0</td>\n",
       "      <td>0</td>\n",
       "      <td>...</td>\n",
       "      <td>0</td>\n",
       "      <td>0</td>\n",
       "      <td>0</td>\n",
       "      <td>0</td>\n",
       "      <td>0</td>\n",
       "      <td>0</td>\n",
       "      <td>0</td>\n",
       "      <td>0</td>\n",
       "      <td>1</td>\n",
       "      <td>1</td>\n",
       "    </tr>\n",
       "  </tbody>\n",
       "</table>\n",
       "<p>5 rows × 41 columns</p>\n",
       "</div>"
      ],
      "text/plain": [
       "   Price  Year  Mileage  Year_used    Condition  City_0  City_1  City_2  \\\n",
       "0   8995  2014    35725          8  4465.625000       0       0       0   \n",
       "1  10888  2013    19606          9  2178.444444       0       0       0   \n",
       "2   8995  2013    48851          9  5427.888889       0       0       0   \n",
       "3  10999  2014    39922          8  4990.250000       0       0       0   \n",
       "4  14799  2016    22142          6  3690.333333       0       0       0   \n",
       "\n",
       "   City_3  City_4  ...  Model_2  Model_3  Model_4  Model_5  Model_6  Model_7  \\\n",
       "0       0       0  ...        0        0        0        0        0        0   \n",
       "1       0       0  ...        0        0        0        0        0        0   \n",
       "2       0       0  ...        0        0        0        0        0        0   \n",
       "3       0       0  ...        0        0        0        0        0        0   \n",
       "4       0       0  ...        0        0        0        0        0        0   \n",
       "\n",
       "   Model_8  Model_9  Model_10  Model_11  \n",
       "0        0        0         0         1  \n",
       "1        0        0         1         0  \n",
       "2        0        0         0         1  \n",
       "3        0        0         1         0  \n",
       "4        0        0         1         1  \n",
       "\n",
       "[5 rows x 41 columns]"
      ]
     },
     "execution_count": 29,
     "metadata": {},
     "output_type": "execute_result"
    }
   ],
   "source": [
    "# Encoding\n",
    "\n",
    "import category_encoders as ce\n",
    "\n",
    "colus=car_data.drop(['Price','Year','Mileage','Year_used','Condition'], axis=1)\n",
    "\n",
    "nums=car_data.drop(['City','State','Make','Model'], axis=1)\n",
    "\n",
    "ce_binary = ce.BinaryEncoder(cols = ['City','State','Make','Model'])\n",
    "\n",
    "# fit and transform and prest, you've got encoded data\n",
    "\n",
    "dat=ce_binary.fit_transform(colus,nums)\n",
    "\n",
    "\n",
    "result = pd.concat([nums, dat], axis=1)\n",
    "result.head()\n",
    "\n",
    "#car_data.head()"
   ]
  },
  {
   "cell_type": "code",
   "execution_count": 30,
   "id": "Utmo4Lo3c-ki",
   "metadata": {
    "id": "Utmo4Lo3c-ki"
   },
   "outputs": [],
   "source": [
    "car_data_enc=result"
   ]
  },
  {
   "cell_type": "code",
   "execution_count": 31,
   "id": "zTgp_6aSGY9z",
   "metadata": {
    "colab": {
     "base_uri": "https://localhost:8080/",
     "height": 394
    },
    "id": "zTgp_6aSGY9z",
    "outputId": "e4cb92fb-5665-417c-9129-ea07b8d06b2e"
   },
   "outputs": [
    {
     "data": {
      "text/html": [
       "<div>\n",
       "<style scoped>\n",
       "    .dataframe tbody tr th:only-of-type {\n",
       "        vertical-align: middle;\n",
       "    }\n",
       "\n",
       "    .dataframe tbody tr th {\n",
       "        vertical-align: top;\n",
       "    }\n",
       "\n",
       "    .dataframe thead th {\n",
       "        text-align: right;\n",
       "    }\n",
       "</style>\n",
       "<table border=\"1\" class=\"dataframe\">\n",
       "  <thead>\n",
       "    <tr style=\"text-align: right;\">\n",
       "      <th></th>\n",
       "      <th>Price</th>\n",
       "      <th>Year</th>\n",
       "      <th>Mileage</th>\n",
       "      <th>Year_used</th>\n",
       "      <th>Condition</th>\n",
       "      <th>City_0</th>\n",
       "      <th>City_1</th>\n",
       "      <th>City_2</th>\n",
       "      <th>City_3</th>\n",
       "      <th>City_4</th>\n",
       "      <th>...</th>\n",
       "      <th>Model_2</th>\n",
       "      <th>Model_3</th>\n",
       "      <th>Model_4</th>\n",
       "      <th>Model_5</th>\n",
       "      <th>Model_6</th>\n",
       "      <th>Model_7</th>\n",
       "      <th>Model_8</th>\n",
       "      <th>Model_9</th>\n",
       "      <th>Model_10</th>\n",
       "      <th>Model_11</th>\n",
       "    </tr>\n",
       "  </thead>\n",
       "  <tbody>\n",
       "    <tr>\n",
       "      <th>count</th>\n",
       "      <td>826724.000000</td>\n",
       "      <td>826724.000000</td>\n",
       "      <td>826724.000000</td>\n",
       "      <td>826724.000000</td>\n",
       "      <td>826724.000000</td>\n",
       "      <td>826724.000000</td>\n",
       "      <td>826724.000000</td>\n",
       "      <td>826724.000000</td>\n",
       "      <td>826724.000000</td>\n",
       "      <td>826724.000000</td>\n",
       "      <td>...</td>\n",
       "      <td>826724.000000</td>\n",
       "      <td>826724.000000</td>\n",
       "      <td>826724.000000</td>\n",
       "      <td>826724.000000</td>\n",
       "      <td>826724.000000</td>\n",
       "      <td>826724.000000</td>\n",
       "      <td>826724.000000</td>\n",
       "      <td>826724.000000</td>\n",
       "      <td>826724.000000</td>\n",
       "      <td>826724.000000</td>\n",
       "    </tr>\n",
       "    <tr>\n",
       "      <th>mean</th>\n",
       "      <td>21008.595685</td>\n",
       "      <td>2013.435411</td>\n",
       "      <td>49866.119674</td>\n",
       "      <td>8.564589</td>\n",
       "      <td>5437.932315</td>\n",
       "      <td>0.040442</td>\n",
       "      <td>0.202392</td>\n",
       "      <td>0.296159</td>\n",
       "      <td>0.404656</td>\n",
       "      <td>0.448436</td>\n",
       "      <td>...</td>\n",
       "      <td>0.466758</td>\n",
       "      <td>0.591144</td>\n",
       "      <td>0.457941</td>\n",
       "      <td>0.416815</td>\n",
       "      <td>0.522460</td>\n",
       "      <td>0.476856</td>\n",
       "      <td>0.511226</td>\n",
       "      <td>0.468657</td>\n",
       "      <td>0.487809</td>\n",
       "      <td>0.533538</td>\n",
       "    </tr>\n",
       "    <tr>\n",
       "      <th>std</th>\n",
       "      <td>10502.912427</td>\n",
       "      <td>3.215227</td>\n",
       "      <td>35565.529267</td>\n",
       "      <td>3.215227</td>\n",
       "      <td>2788.801696</td>\n",
       "      <td>0.196993</td>\n",
       "      <td>0.401783</td>\n",
       "      <td>0.456562</td>\n",
       "      <td>0.490826</td>\n",
       "      <td>0.497334</td>\n",
       "      <td>...</td>\n",
       "      <td>0.498894</td>\n",
       "      <td>0.491623</td>\n",
       "      <td>0.498228</td>\n",
       "      <td>0.493032</td>\n",
       "      <td>0.499496</td>\n",
       "      <td>0.499464</td>\n",
       "      <td>0.499874</td>\n",
       "      <td>0.499017</td>\n",
       "      <td>0.499852</td>\n",
       "      <td>0.498874</td>\n",
       "    </tr>\n",
       "    <tr>\n",
       "      <th>min</th>\n",
       "      <td>1500.000000</td>\n",
       "      <td>1997.000000</td>\n",
       "      <td>5.000000</td>\n",
       "      <td>4.000000</td>\n",
       "      <td>0.250000</td>\n",
       "      <td>0.000000</td>\n",
       "      <td>0.000000</td>\n",
       "      <td>0.000000</td>\n",
       "      <td>0.000000</td>\n",
       "      <td>0.000000</td>\n",
       "      <td>...</td>\n",
       "      <td>0.000000</td>\n",
       "      <td>0.000000</td>\n",
       "      <td>0.000000</td>\n",
       "      <td>0.000000</td>\n",
       "      <td>0.000000</td>\n",
       "      <td>0.000000</td>\n",
       "      <td>0.000000</td>\n",
       "      <td>0.000000</td>\n",
       "      <td>0.000000</td>\n",
       "      <td>0.000000</td>\n",
       "    </tr>\n",
       "    <tr>\n",
       "      <th>25%</th>\n",
       "      <td>13495.000000</td>\n",
       "      <td>2012.000000</td>\n",
       "      <td>23844.000000</td>\n",
       "      <td>6.000000</td>\n",
       "      <td>3426.333333</td>\n",
       "      <td>0.000000</td>\n",
       "      <td>0.000000</td>\n",
       "      <td>0.000000</td>\n",
       "      <td>0.000000</td>\n",
       "      <td>0.000000</td>\n",
       "      <td>...</td>\n",
       "      <td>0.000000</td>\n",
       "      <td>0.000000</td>\n",
       "      <td>0.000000</td>\n",
       "      <td>0.000000</td>\n",
       "      <td>0.000000</td>\n",
       "      <td>0.000000</td>\n",
       "      <td>0.000000</td>\n",
       "      <td>0.000000</td>\n",
       "      <td>0.000000</td>\n",
       "      <td>0.000000</td>\n",
       "    </tr>\n",
       "    <tr>\n",
       "      <th>50%</th>\n",
       "      <td>18597.000000</td>\n",
       "      <td>2014.000000</td>\n",
       "      <td>39884.500000</td>\n",
       "      <td>8.000000</td>\n",
       "      <td>5234.857143</td>\n",
       "      <td>0.000000</td>\n",
       "      <td>0.000000</td>\n",
       "      <td>0.000000</td>\n",
       "      <td>0.000000</td>\n",
       "      <td>0.000000</td>\n",
       "      <td>...</td>\n",
       "      <td>0.000000</td>\n",
       "      <td>1.000000</td>\n",
       "      <td>0.000000</td>\n",
       "      <td>0.000000</td>\n",
       "      <td>1.000000</td>\n",
       "      <td>0.000000</td>\n",
       "      <td>1.000000</td>\n",
       "      <td>0.000000</td>\n",
       "      <td>0.000000</td>\n",
       "      <td>1.000000</td>\n",
       "    </tr>\n",
       "    <tr>\n",
       "      <th>75%</th>\n",
       "      <td>26990.000000</td>\n",
       "      <td>2016.000000</td>\n",
       "      <td>69915.000000</td>\n",
       "      <td>10.000000</td>\n",
       "      <td>7209.279545</td>\n",
       "      <td>0.000000</td>\n",
       "      <td>0.000000</td>\n",
       "      <td>1.000000</td>\n",
       "      <td>1.000000</td>\n",
       "      <td>1.000000</td>\n",
       "      <td>...</td>\n",
       "      <td>1.000000</td>\n",
       "      <td>1.000000</td>\n",
       "      <td>1.000000</td>\n",
       "      <td>1.000000</td>\n",
       "      <td>1.000000</td>\n",
       "      <td>1.000000</td>\n",
       "      <td>1.000000</td>\n",
       "      <td>1.000000</td>\n",
       "      <td>1.000000</td>\n",
       "      <td>1.000000</td>\n",
       "    </tr>\n",
       "    <tr>\n",
       "      <th>max</th>\n",
       "      <td>60987.000000</td>\n",
       "      <td>2018.000000</td>\n",
       "      <td>165156.000000</td>\n",
       "      <td>25.000000</td>\n",
       "      <td>31374.600000</td>\n",
       "      <td>1.000000</td>\n",
       "      <td>1.000000</td>\n",
       "      <td>1.000000</td>\n",
       "      <td>1.000000</td>\n",
       "      <td>1.000000</td>\n",
       "      <td>...</td>\n",
       "      <td>1.000000</td>\n",
       "      <td>1.000000</td>\n",
       "      <td>1.000000</td>\n",
       "      <td>1.000000</td>\n",
       "      <td>1.000000</td>\n",
       "      <td>1.000000</td>\n",
       "      <td>1.000000</td>\n",
       "      <td>1.000000</td>\n",
       "      <td>1.000000</td>\n",
       "      <td>1.000000</td>\n",
       "    </tr>\n",
       "  </tbody>\n",
       "</table>\n",
       "<p>8 rows × 41 columns</p>\n",
       "</div>"
      ],
      "text/plain": [
       "               Price           Year        Mileage      Year_used  \\\n",
       "count  826724.000000  826724.000000  826724.000000  826724.000000   \n",
       "mean    21008.595685    2013.435411   49866.119674       8.564589   \n",
       "std     10502.912427       3.215227   35565.529267       3.215227   \n",
       "min      1500.000000    1997.000000       5.000000       4.000000   \n",
       "25%     13495.000000    2012.000000   23844.000000       6.000000   \n",
       "50%     18597.000000    2014.000000   39884.500000       8.000000   \n",
       "75%     26990.000000    2016.000000   69915.000000      10.000000   \n",
       "max     60987.000000    2018.000000  165156.000000      25.000000   \n",
       "\n",
       "           Condition         City_0         City_1         City_2  \\\n",
       "count  826724.000000  826724.000000  826724.000000  826724.000000   \n",
       "mean     5437.932315       0.040442       0.202392       0.296159   \n",
       "std      2788.801696       0.196993       0.401783       0.456562   \n",
       "min         0.250000       0.000000       0.000000       0.000000   \n",
       "25%      3426.333333       0.000000       0.000000       0.000000   \n",
       "50%      5234.857143       0.000000       0.000000       0.000000   \n",
       "75%      7209.279545       0.000000       0.000000       1.000000   \n",
       "max     31374.600000       1.000000       1.000000       1.000000   \n",
       "\n",
       "              City_3         City_4  ...        Model_2        Model_3  \\\n",
       "count  826724.000000  826724.000000  ...  826724.000000  826724.000000   \n",
       "mean        0.404656       0.448436  ...       0.466758       0.591144   \n",
       "std         0.490826       0.497334  ...       0.498894       0.491623   \n",
       "min         0.000000       0.000000  ...       0.000000       0.000000   \n",
       "25%         0.000000       0.000000  ...       0.000000       0.000000   \n",
       "50%         0.000000       0.000000  ...       0.000000       1.000000   \n",
       "75%         1.000000       1.000000  ...       1.000000       1.000000   \n",
       "max         1.000000       1.000000  ...       1.000000       1.000000   \n",
       "\n",
       "             Model_4        Model_5        Model_6        Model_7  \\\n",
       "count  826724.000000  826724.000000  826724.000000  826724.000000   \n",
       "mean        0.457941       0.416815       0.522460       0.476856   \n",
       "std         0.498228       0.493032       0.499496       0.499464   \n",
       "min         0.000000       0.000000       0.000000       0.000000   \n",
       "25%         0.000000       0.000000       0.000000       0.000000   \n",
       "50%         0.000000       0.000000       1.000000       0.000000   \n",
       "75%         1.000000       1.000000       1.000000       1.000000   \n",
       "max         1.000000       1.000000       1.000000       1.000000   \n",
       "\n",
       "             Model_8        Model_9       Model_10       Model_11  \n",
       "count  826724.000000  826724.000000  826724.000000  826724.000000  \n",
       "mean        0.511226       0.468657       0.487809       0.533538  \n",
       "std         0.499874       0.499017       0.499852       0.498874  \n",
       "min         0.000000       0.000000       0.000000       0.000000  \n",
       "25%         0.000000       0.000000       0.000000       0.000000  \n",
       "50%         1.000000       0.000000       0.000000       1.000000  \n",
       "75%         1.000000       1.000000       1.000000       1.000000  \n",
       "max         1.000000       1.000000       1.000000       1.000000  \n",
       "\n",
       "[8 rows x 41 columns]"
      ]
     },
     "execution_count": 31,
     "metadata": {},
     "output_type": "execute_result"
    }
   ],
   "source": [
    "car_data_enc.describe()"
   ]
  },
  {
   "cell_type": "markdown",
   "id": "flUbMIhxiJRe",
   "metadata": {
    "id": "flUbMIhxiJRe"
   },
   "source": [
    "Using this reg plot we got information regarding how price and year is correlated with positive slope and negative intercept"
   ]
  },
  {
   "cell_type": "markdown",
   "id": "43OwpBRmfrAt",
   "metadata": {
    "id": "43OwpBRmfrAt"
   },
   "source": [
    "\n",
    "# Spliting data file into Train and test data set"
   ]
  },
  {
   "cell_type": "code",
   "execution_count": 32,
   "id": "g_cCep1CvrrJ",
   "metadata": {
    "colab": {
     "base_uri": "https://localhost:8080/",
     "height": 300
    },
    "id": "g_cCep1CvrrJ",
    "outputId": "8840680c-014b-4219-a8b0-fd65c73fa5ef"
   },
   "outputs": [
    {
     "data": {
      "text/html": [
       "<div>\n",
       "<style scoped>\n",
       "    .dataframe tbody tr th:only-of-type {\n",
       "        vertical-align: middle;\n",
       "    }\n",
       "\n",
       "    .dataframe tbody tr th {\n",
       "        vertical-align: top;\n",
       "    }\n",
       "\n",
       "    .dataframe thead th {\n",
       "        text-align: right;\n",
       "    }\n",
       "</style>\n",
       "<table border=\"1\" class=\"dataframe\">\n",
       "  <thead>\n",
       "    <tr style=\"text-align: right;\">\n",
       "      <th></th>\n",
       "      <th>Year</th>\n",
       "      <th>Mileage</th>\n",
       "      <th>Year_used</th>\n",
       "      <th>Condition</th>\n",
       "      <th>City_0</th>\n",
       "      <th>City_1</th>\n",
       "      <th>City_2</th>\n",
       "      <th>City_3</th>\n",
       "      <th>City_4</th>\n",
       "      <th>City_5</th>\n",
       "      <th>...</th>\n",
       "      <th>Model_2</th>\n",
       "      <th>Model_3</th>\n",
       "      <th>Model_4</th>\n",
       "      <th>Model_5</th>\n",
       "      <th>Model_6</th>\n",
       "      <th>Model_7</th>\n",
       "      <th>Model_8</th>\n",
       "      <th>Model_9</th>\n",
       "      <th>Model_10</th>\n",
       "      <th>Model_11</th>\n",
       "    </tr>\n",
       "  </thead>\n",
       "  <tbody>\n",
       "    <tr>\n",
       "      <th>0</th>\n",
       "      <td>2014</td>\n",
       "      <td>35725</td>\n",
       "      <td>8</td>\n",
       "      <td>4465.625000</td>\n",
       "      <td>0</td>\n",
       "      <td>0</td>\n",
       "      <td>0</td>\n",
       "      <td>0</td>\n",
       "      <td>0</td>\n",
       "      <td>0</td>\n",
       "      <td>...</td>\n",
       "      <td>0</td>\n",
       "      <td>0</td>\n",
       "      <td>0</td>\n",
       "      <td>0</td>\n",
       "      <td>0</td>\n",
       "      <td>0</td>\n",
       "      <td>0</td>\n",
       "      <td>0</td>\n",
       "      <td>0</td>\n",
       "      <td>1</td>\n",
       "    </tr>\n",
       "    <tr>\n",
       "      <th>1</th>\n",
       "      <td>2013</td>\n",
       "      <td>19606</td>\n",
       "      <td>9</td>\n",
       "      <td>2178.444444</td>\n",
       "      <td>0</td>\n",
       "      <td>0</td>\n",
       "      <td>0</td>\n",
       "      <td>0</td>\n",
       "      <td>0</td>\n",
       "      <td>0</td>\n",
       "      <td>...</td>\n",
       "      <td>0</td>\n",
       "      <td>0</td>\n",
       "      <td>0</td>\n",
       "      <td>0</td>\n",
       "      <td>0</td>\n",
       "      <td>0</td>\n",
       "      <td>0</td>\n",
       "      <td>0</td>\n",
       "      <td>1</td>\n",
       "      <td>0</td>\n",
       "    </tr>\n",
       "    <tr>\n",
       "      <th>2</th>\n",
       "      <td>2013</td>\n",
       "      <td>48851</td>\n",
       "      <td>9</td>\n",
       "      <td>5427.888889</td>\n",
       "      <td>0</td>\n",
       "      <td>0</td>\n",
       "      <td>0</td>\n",
       "      <td>0</td>\n",
       "      <td>0</td>\n",
       "      <td>0</td>\n",
       "      <td>...</td>\n",
       "      <td>0</td>\n",
       "      <td>0</td>\n",
       "      <td>0</td>\n",
       "      <td>0</td>\n",
       "      <td>0</td>\n",
       "      <td>0</td>\n",
       "      <td>0</td>\n",
       "      <td>0</td>\n",
       "      <td>0</td>\n",
       "      <td>1</td>\n",
       "    </tr>\n",
       "    <tr>\n",
       "      <th>3</th>\n",
       "      <td>2014</td>\n",
       "      <td>39922</td>\n",
       "      <td>8</td>\n",
       "      <td>4990.250000</td>\n",
       "      <td>0</td>\n",
       "      <td>0</td>\n",
       "      <td>0</td>\n",
       "      <td>0</td>\n",
       "      <td>0</td>\n",
       "      <td>0</td>\n",
       "      <td>...</td>\n",
       "      <td>0</td>\n",
       "      <td>0</td>\n",
       "      <td>0</td>\n",
       "      <td>0</td>\n",
       "      <td>0</td>\n",
       "      <td>0</td>\n",
       "      <td>0</td>\n",
       "      <td>0</td>\n",
       "      <td>1</td>\n",
       "      <td>0</td>\n",
       "    </tr>\n",
       "    <tr>\n",
       "      <th>4</th>\n",
       "      <td>2016</td>\n",
       "      <td>22142</td>\n",
       "      <td>6</td>\n",
       "      <td>3690.333333</td>\n",
       "      <td>0</td>\n",
       "      <td>0</td>\n",
       "      <td>0</td>\n",
       "      <td>0</td>\n",
       "      <td>0</td>\n",
       "      <td>0</td>\n",
       "      <td>...</td>\n",
       "      <td>0</td>\n",
       "      <td>0</td>\n",
       "      <td>0</td>\n",
       "      <td>0</td>\n",
       "      <td>0</td>\n",
       "      <td>0</td>\n",
       "      <td>0</td>\n",
       "      <td>0</td>\n",
       "      <td>1</td>\n",
       "      <td>1</td>\n",
       "    </tr>\n",
       "  </tbody>\n",
       "</table>\n",
       "<p>5 rows × 40 columns</p>\n",
       "</div>"
      ],
      "text/plain": [
       "   Year  Mileage  Year_used    Condition  City_0  City_1  City_2  City_3  \\\n",
       "0  2014    35725          8  4465.625000       0       0       0       0   \n",
       "1  2013    19606          9  2178.444444       0       0       0       0   \n",
       "2  2013    48851          9  5427.888889       0       0       0       0   \n",
       "3  2014    39922          8  4990.250000       0       0       0       0   \n",
       "4  2016    22142          6  3690.333333       0       0       0       0   \n",
       "\n",
       "   City_4  City_5  ...  Model_2  Model_3  Model_4  Model_5  Model_6  Model_7  \\\n",
       "0       0       0  ...        0        0        0        0        0        0   \n",
       "1       0       0  ...        0        0        0        0        0        0   \n",
       "2       0       0  ...        0        0        0        0        0        0   \n",
       "3       0       0  ...        0        0        0        0        0        0   \n",
       "4       0       0  ...        0        0        0        0        0        0   \n",
       "\n",
       "   Model_8  Model_9  Model_10  Model_11  \n",
       "0        0        0         0         1  \n",
       "1        0        0         1         0  \n",
       "2        0        0         0         1  \n",
       "3        0        0         1         0  \n",
       "4        0        0         1         1  \n",
       "\n",
       "[5 rows x 40 columns]"
      ]
     },
     "execution_count": 32,
     "metadata": {},
     "output_type": "execute_result"
    }
   ],
   "source": [
    "X=car_data_enc.drop(['Price'],1)\n",
    "X.head()"
   ]
  },
  {
   "cell_type": "code",
   "execution_count": 33,
   "id": "312162cb",
   "metadata": {},
   "outputs": [
    {
     "name": "stdout",
     "output_type": "stream",
     "text": [
      "[[0.80952381 0.21628691 0.19047619 ... 0.         0.         1.        ]\n",
      " [0.76190476 0.11868532 0.23809524 ... 0.         1.         0.        ]\n",
      " [0.76190476 0.29576569 0.23809524 ... 0.         0.         1.        ]\n",
      " ...\n",
      " [0.95238095 0.01494995 0.04761905 ... 1.         1.         0.        ]\n",
      " [0.9047619  0.17520935 0.0952381  ... 1.         1.         0.        ]\n",
      " [0.95238095 0.01816519 0.04761905 ... 0.         0.         0.        ]]\n"
     ]
    }
   ],
   "source": [
    "from sklearn.preprocessing import MinMaxScaler\n",
    "\n",
    "scaler = MinMaxScaler()                                             \n",
    "scaler.fit(X)\n",
    "X_check= scaler.transform(X)\n",
    "print(X_check)"
   ]
  },
  {
   "cell_type": "code",
   "execution_count": 34,
   "id": "HPyLwoUl0yfH",
   "metadata": {
    "colab": {
     "base_uri": "https://localhost:8080/"
    },
    "id": "HPyLwoUl0yfH",
    "outputId": "982b6040-9117-47d9-bd6c-8f1ba6eb6a9b",
    "scrolled": true
   },
   "outputs": [
    {
     "data": {
      "text/plain": [
       "0     8995\n",
       "1    10888\n",
       "2     8995\n",
       "3    10999\n",
       "4    14799\n",
       "Name: Price, dtype: int64"
      ]
     },
     "execution_count": 34,
     "metadata": {},
     "output_type": "execute_result"
    }
   ],
   "source": [
    "y=car_data_enc['Price']\n",
    "y.head()"
   ]
  },
  {
   "cell_type": "code",
   "execution_count": 35,
   "id": "SMyzE2hX1EMT",
   "metadata": {
    "colab": {
     "base_uri": "https://localhost:8080/"
    },
    "id": "SMyzE2hX1EMT",
    "outputId": "5dad1282-0227-4176-a97d-74a3eeec0e97"
   },
   "outputs": [
    {
     "name": "stdout",
     "output_type": "stream",
     "text": [
      "(744051, 40)\n",
      "(82673, 40)\n",
      "(744051,)\n"
     ]
    }
   ],
   "source": [
    "X_train,X_test,y_train,y_test=train_test_split(X,y, train_size=0.9, test_size=0.1,random_state=95)\n",
    "\n",
    "print(X_train.shape)\n",
    "print(X_test.shape)\n",
    "print(y_train.shape)"
   ]
  },
  {
   "cell_type": "markdown",
   "id": "hVYB2zQ4Ov78",
   "metadata": {
    "id": "hVYB2zQ4Ov78"
   },
   "source": [
    "# Normalise the value using min max scalar"
   ]
  },
  {
   "cell_type": "code",
   "execution_count": 36,
   "id": "2ojfLsiP13_b",
   "metadata": {
    "id": "2ojfLsiP13_b"
   },
   "outputs": [],
   "source": [
    "\n",
    "from sklearn.preprocessing import MinMaxScaler\n",
    "\n",
    "scaler = MinMaxScaler()\n",
    "scaler.fit(X_train)\n",
    "X_train_std = scaler.transform(X_train)\n",
    "\n",
    "#scaler.fit(X_test)\n",
    "#X_test_std = scaler.transform(X_test)"
   ]
  },
  {
   "cell_type": "code",
   "execution_count": 37,
   "id": "2046c2fd",
   "metadata": {},
   "outputs": [
    {
     "name": "stdout",
     "output_type": "stream",
     "text": [
      "Collecting xgboost\n",
      "  Downloading xgboost-1.5.2-py3-none-win_amd64.whl (106.6 MB)\n",
      "Requirement already satisfied: scipy in c:\\programdata\\anaconda3\\lib\\site-packages (from xgboost) (1.7.1)\n",
      "Requirement already satisfied: numpy in c:\\programdata\\anaconda3\\lib\\site-packages (from xgboost) (1.20.3)\n",
      "Installing collected packages: xgboost\n",
      "Successfully installed xgboost-1.5.2\n"
     ]
    }
   ],
   "source": [
    "!pip install xgboost"
   ]
  },
  {
   "cell_type": "markdown",
   "id": "kJkWzG85O8Kv",
   "metadata": {
    "id": "kJkWzG85O8Kv"
   },
   "source": [
    "#Xtreme gradient boosting"
   ]
  },
  {
   "cell_type": "code",
   "execution_count": 244,
   "id": "eIRQ_eUqMG92",
   "metadata": {
    "colab": {
     "base_uri": "https://localhost:8080/"
    },
    "id": "eIRQ_eUqMG92",
    "outputId": "9be2feca-3eb8-42b3-f53b-08f40f5c2869"
   },
   "outputs": [],
   "source": [
    "# importing the XG boost model\n",
    "import xgboost as xgb\n",
    "\n",
    "# Making a data matrix that Xg model undesrstands\n",
    "data_dmatrix = xgb.DMatrix(data=X,label=y)\n",
    "xgbr_params = {'n_estimators': 500,\n",
    "          'colsample_bytree': 0.3,\n",
    "          'learning_rate': 0.1,\n",
    "          'max_depth': 10,\n",
    "          'alpha': 10,\n",
    "          'objective': 'reg:squarederror'}\n",
    "#Changing the xg model parameters for modelling\n",
    "xg_reg = xgb.XGBRegressor(**xgbr_params)\n",
    "\n",
    "\n",
    "# trainning the model \n",
    "xg_reg.fit(X_train_std,y_train)\n",
    "\n",
    "# predicting the y test and y train\n",
    "y_test_preds = xg_reg.predict(X_test_std)\n",
    "y_train_preds = xg_reg.predict(X_train_std)\n",
    "\n",
    "train_acur=xg_reg.score(X_train_std, y_train)\n",
    "train_acur=train_acur*100\n",
    "\n",
    "\n",
    "test_acur=xg_reg.score(X_test_std, y_test)\n",
    "test_acur=test_acur*100\n",
    "\n",
    "\n",
    "\n"
   ]
  },
  {
   "cell_type": "code",
   "execution_count": 245,
   "id": "K6YbzYTSan0m",
   "metadata": {
    "colab": {
     "base_uri": "https://localhost:8080/"
    },
    "id": "K6YbzYTSan0m",
    "outputId": "57ea512b-5b6d-4db4-d5e6-33b0392bee4a"
   },
   "outputs": [
    {
     "name": "stdout",
     "output_type": "stream",
     "text": [
      "XGModel Accuracy Train: 92.6556 %\n",
      "XGModel Accuracy Test: 89.3615 %\n",
      "Train - RMSE: 2846.286154\n",
      "Test - RMSE: 3426.451087\n",
      "NRMSE Train: 0.047847\n",
      "NRMSE Test: 0.057600\n"
     ]
    }
   ],
   "source": [
    "\n",
    "# printing the model accuracy \n",
    "\n",
    "print(\"XGModel Accuracy Train: %.4f\" % train_acur,'%')\n",
    "print(\"XGModel Accuracy Test: %.4f\" % test_acur,'%')\n",
    "rmse_1 = np.sqrt(mean_squared_error(y_train, y_train_preds))\n",
    "print(\"Train - RMSE: %f\" % (rmse_1))\n",
    "rmse = np.sqrt(mean_squared_error(y_test, y_test_preds))\n",
    "print(\"Test - RMSE: %f\" % (rmse))\n",
    "\n",
    "NRMSE_1=rmse_1/(car_data_enc['Price'].max()-car_data_enc['Price'].min())\n",
    "print(\"NRMSE Train: %f\" % (NRMSE_1))\n",
    "\n",
    "# normalize rmse error   rsme/(price max- price min)  \n",
    "NRMSE=rmse/(car_data_enc['Price'].max()-car_data_enc['Price'].min())\n",
    "print(\"NRMSE Test: %f\" % (NRMSE))"
   ]
  },
  {
   "cell_type": "code",
   "execution_count": 246,
   "id": "585678d8",
   "metadata": {},
   "outputs": [
    {
     "data": {
      "text/plain": [
       "array([16630.516, 14015.161, 15525.062, 16008.462, 21360.045],\n",
       "      dtype=float32)"
      ]
     },
     "execution_count": 246,
     "metadata": {},
     "output_type": "execute_result"
    }
   ],
   "source": [
    "xg_reg.predict(X_check[:5])"
   ]
  },
  {
   "cell_type": "code",
   "execution_count": null,
   "id": "3052a326",
   "metadata": {},
   "outputs": [],
   "source": []
  },
  {
   "cell_type": "code",
   "execution_count": 247,
   "id": "ca615c09",
   "metadata": {},
   "outputs": [],
   "source": [
    "new_xgb=car_data"
   ]
  },
  {
   "cell_type": "code",
   "execution_count": 248,
   "id": "78b063b0",
   "metadata": {},
   "outputs": [
    {
     "data": {
      "text/html": [
       "<div>\n",
       "<style scoped>\n",
       "    .dataframe tbody tr th:only-of-type {\n",
       "        vertical-align: middle;\n",
       "    }\n",
       "\n",
       "    .dataframe tbody tr th {\n",
       "        vertical-align: top;\n",
       "    }\n",
       "\n",
       "    .dataframe thead th {\n",
       "        text-align: right;\n",
       "    }\n",
       "</style>\n",
       "<table border=\"1\" class=\"dataframe\">\n",
       "  <thead>\n",
       "    <tr style=\"text-align: right;\">\n",
       "      <th></th>\n",
       "      <th>Year</th>\n",
       "      <th>Mileage</th>\n",
       "      <th>City</th>\n",
       "      <th>State</th>\n",
       "      <th>Make</th>\n",
       "      <th>Model</th>\n",
       "      <th>Year_used</th>\n",
       "      <th>Condition</th>\n",
       "    </tr>\n",
       "  </thead>\n",
       "  <tbody>\n",
       "    <tr>\n",
       "      <th>0</th>\n",
       "      <td>2014</td>\n",
       "      <td>35725</td>\n",
       "      <td>El Paso</td>\n",
       "      <td>TX</td>\n",
       "      <td>Acura</td>\n",
       "      <td>ILX6-Speed</td>\n",
       "      <td>8</td>\n",
       "      <td>4465.625000</td>\n",
       "    </tr>\n",
       "    <tr>\n",
       "      <th>1</th>\n",
       "      <td>2013</td>\n",
       "      <td>19606</td>\n",
       "      <td>Long Island City</td>\n",
       "      <td>NY</td>\n",
       "      <td>Acura</td>\n",
       "      <td>ILX5-Speed</td>\n",
       "      <td>9</td>\n",
       "      <td>2178.444444</td>\n",
       "    </tr>\n",
       "    <tr>\n",
       "      <th>2</th>\n",
       "      <td>2013</td>\n",
       "      <td>48851</td>\n",
       "      <td>El Paso</td>\n",
       "      <td>TX</td>\n",
       "      <td>Acura</td>\n",
       "      <td>ILX6-Speed</td>\n",
       "      <td>9</td>\n",
       "      <td>5427.888889</td>\n",
       "    </tr>\n",
       "    <tr>\n",
       "      <th>3</th>\n",
       "      <td>2014</td>\n",
       "      <td>39922</td>\n",
       "      <td>Windsor</td>\n",
       "      <td>CO</td>\n",
       "      <td>Acura</td>\n",
       "      <td>ILX5-Speed</td>\n",
       "      <td>8</td>\n",
       "      <td>4990.250000</td>\n",
       "    </tr>\n",
       "    <tr>\n",
       "      <th>4</th>\n",
       "      <td>2016</td>\n",
       "      <td>22142</td>\n",
       "      <td>Lindon</td>\n",
       "      <td>UT</td>\n",
       "      <td>Acura</td>\n",
       "      <td>ILXAutomatic</td>\n",
       "      <td>6</td>\n",
       "      <td>3690.333333</td>\n",
       "    </tr>\n",
       "  </tbody>\n",
       "</table>\n",
       "</div>"
      ],
      "text/plain": [
       "   Year  Mileage              City State   Make         Model  Year_used  \\\n",
       "0  2014    35725           El Paso    TX  Acura    ILX6-Speed          8   \n",
       "1  2013    19606  Long Island City    NY  Acura    ILX5-Speed          9   \n",
       "2  2013    48851           El Paso    TX  Acura    ILX6-Speed          9   \n",
       "3  2014    39922           Windsor    CO  Acura    ILX5-Speed          8   \n",
       "4  2016    22142            Lindon    UT  Acura  ILXAutomatic          6   \n",
       "\n",
       "     Condition  \n",
       "0  4465.625000  \n",
       "1  2178.444444  \n",
       "2  5427.888889  \n",
       "3  4990.250000  \n",
       "4  3690.333333  "
      ]
     },
     "execution_count": 248,
     "metadata": {},
     "output_type": "execute_result"
    }
   ],
   "source": [
    "Xg_n=new_xgb.drop(['Price'],1)\n",
    "\n",
    "Xg_n.head()"
   ]
  },
  {
   "cell_type": "code",
   "execution_count": 249,
   "id": "ff08f5e5",
   "metadata": {},
   "outputs": [],
   "source": [
    "yg_n=new_xgb['Price']\n",
    "yg_n=yg_n.values.reshape(-1,1)"
   ]
  },
  {
   "cell_type": "code",
   "execution_count": 250,
   "id": "0e303d6a",
   "metadata": {},
   "outputs": [],
   "source": [
    "from sklearn.compose import make_column_transformer\n",
    "import category_encoders as ce\n",
    "\n",
    "col_tra = make_column_transformer((MinMaxScaler(), ['Year', 'Mileage','Year_used', 'Condition']),\n",
    "    (ce.BinaryEncoder(),['City','State','Make','Model']))"
   ]
  },
  {
   "cell_type": "code",
   "execution_count": 251,
   "id": "39225e64",
   "metadata": {},
   "outputs": [
    {
     "data": {
      "text/plain": [
       "ColumnTransformer(transformers=[('minmaxscaler', MinMaxScaler(),\n",
       "                                 ['Year', 'Mileage', 'Year_used', 'Condition']),\n",
       "                                ('binaryencoder', BinaryEncoder(),\n",
       "                                 ['City', 'State', 'Make', 'Model'])])"
      ]
     },
     "execution_count": 251,
     "metadata": {},
     "output_type": "execute_result"
    }
   ],
   "source": [
    "col_tra"
   ]
  },
  {
   "cell_type": "code",
   "execution_count": 252,
   "id": "178b6b36",
   "metadata": {},
   "outputs": [
    {
     "data": {
      "text/plain": [
       "array([[0.80952381, 0.21628691, 0.19047619, ..., 0.        , 0.        ,\n",
       "        1.        ],\n",
       "       [0.76190476, 0.11868532, 0.23809524, ..., 0.        , 1.        ,\n",
       "        0.        ],\n",
       "       [0.76190476, 0.29576569, 0.23809524, ..., 0.        , 0.        ,\n",
       "        1.        ],\n",
       "       ...,\n",
       "       [0.95238095, 0.01494995, 0.04761905, ..., 1.        , 1.        ,\n",
       "        0.        ],\n",
       "       [0.9047619 , 0.17520935, 0.0952381 , ..., 1.        , 1.        ,\n",
       "        0.        ],\n",
       "       [0.95238095, 0.01816519, 0.04761905, ..., 0.        , 0.        ,\n",
       "        0.        ]])"
      ]
     },
     "execution_count": 252,
     "metadata": {},
     "output_type": "execute_result"
    }
   ],
   "source": [
    "col_tra.fit_transform(Xg_n)"
   ]
  },
  {
   "cell_type": "code",
   "execution_count": 253,
   "id": "f9daf97b",
   "metadata": {},
   "outputs": [],
   "source": [
    "from sklearn.pipeline import make_pipeline\n",
    "from sklearn.pipeline import Pipeline"
   ]
  },
  {
   "cell_type": "code",
   "execution_count": 254,
   "id": "6a758826",
   "metadata": {},
   "outputs": [],
   "source": [
    "pipe_xgb=make_pipeline(col_tra,xg_reg)\n"
   ]
  },
  {
   "cell_type": "code",
   "execution_count": 255,
   "id": "b6cd26af",
   "metadata": {},
   "outputs": [
    {
     "name": "stdout",
     "output_type": "stream",
     "text": [
      "   Year  Mileage     City State   Make       Model  Year_used  Condition\n",
      "0  2014    35725  El Paso    TX  Acura  ILX6-Speed          8   4465.625\n"
     ]
    }
   ],
   "source": [
    "print(Xg_n[:1])"
   ]
  },
  {
   "cell_type": "code",
   "execution_count": 256,
   "id": "d57300df",
   "metadata": {},
   "outputs": [
    {
     "data": {
      "text/plain": [
       "array([16630.516, 14015.161, 15525.062, 16008.462, 21360.045],\n",
       "      dtype=float32)"
      ]
     },
     "execution_count": 256,
     "metadata": {},
     "output_type": "execute_result"
    }
   ],
   "source": [
    "pipe_xgb.predict(Xg_n[:5])"
   ]
  },
  {
   "cell_type": "code",
   "execution_count": 257,
   "id": "1afebff9",
   "metadata": {},
   "outputs": [],
   "source": [
    "import pickle\n",
    "\n",
    "\n",
    "with open('model2_pkl', 'wb') as files:    # saveing model\n",
    "    pickle.dump(pipe_xgb, files)\n"
   ]
  },
  {
   "cell_type": "code",
   "execution_count": 258,
   "id": "1cae60a4",
   "metadata": {},
   "outputs": [],
   "source": [
    "with open('model2_pkl' , 'rb') as f:\n",
    "    lr_che = pickle.load(f)                 #"
   ]
  },
  {
   "cell_type": "code",
   "execution_count": 259,
   "id": "ef122cf4",
   "metadata": {},
   "outputs": [
    {
     "data": {
      "text/html": [
       "<div>\n",
       "<style scoped>\n",
       "    .dataframe tbody tr th:only-of-type {\n",
       "        vertical-align: middle;\n",
       "    }\n",
       "\n",
       "    .dataframe tbody tr th {\n",
       "        vertical-align: top;\n",
       "    }\n",
       "\n",
       "    .dataframe thead th {\n",
       "        text-align: right;\n",
       "    }\n",
       "</style>\n",
       "<table border=\"1\" class=\"dataframe\">\n",
       "  <thead>\n",
       "    <tr style=\"text-align: right;\">\n",
       "      <th></th>\n",
       "      <th>Year</th>\n",
       "      <th>Mileage</th>\n",
       "      <th>City</th>\n",
       "      <th>State</th>\n",
       "      <th>Make</th>\n",
       "      <th>Model</th>\n",
       "      <th>Year_used</th>\n",
       "      <th>Condition</th>\n",
       "    </tr>\n",
       "  </thead>\n",
       "  <tbody>\n",
       "    <tr>\n",
       "      <th>0</th>\n",
       "      <td>2014</td>\n",
       "      <td>35725</td>\n",
       "      <td>El Paso</td>\n",
       "      <td>TX</td>\n",
       "      <td>Acura</td>\n",
       "      <td>ILX6-Speed</td>\n",
       "      <td>8</td>\n",
       "      <td>4465.625000</td>\n",
       "    </tr>\n",
       "    <tr>\n",
       "      <th>1</th>\n",
       "      <td>2013</td>\n",
       "      <td>19606</td>\n",
       "      <td>Long Island City</td>\n",
       "      <td>NY</td>\n",
       "      <td>Acura</td>\n",
       "      <td>ILX5-Speed</td>\n",
       "      <td>9</td>\n",
       "      <td>2178.444444</td>\n",
       "    </tr>\n",
       "  </tbody>\n",
       "</table>\n",
       "</div>"
      ],
      "text/plain": [
       "   Year  Mileage              City State   Make       Model  Year_used  \\\n",
       "0  2014    35725           El Paso    TX  Acura  ILX6-Speed          8   \n",
       "1  2013    19606  Long Island City    NY  Acura  ILX5-Speed          9   \n",
       "\n",
       "     Condition  \n",
       "0  4465.625000  \n",
       "1  2178.444444  "
      ]
     },
     "execution_count": 259,
     "metadata": {},
     "output_type": "execute_result"
    }
   ],
   "source": [
    "Xg_n[:2]"
   ]
  },
  {
   "cell_type": "code",
   "execution_count": 260,
   "id": "4ccb7a0d",
   "metadata": {},
   "outputs": [
    {
     "name": "stdout",
     "output_type": "stream",
     "text": [
      "<class 'pandas.core.frame.DataFrame'>\n"
     ]
    }
   ],
   "source": [
    "print(type(Xg_n[:1]))"
   ]
  },
  {
   "cell_type": "code",
   "execution_count": 261,
   "id": "06a4fc38",
   "metadata": {},
   "outputs": [],
   "source": [
    "t_1=Xg_n[:5].to_numpy()"
   ]
  },
  {
   "cell_type": "code",
   "execution_count": 262,
   "id": "4e8bc3c9",
   "metadata": {},
   "outputs": [
    {
     "name": "stdout",
     "output_type": "stream",
     "text": [
      "[[2014 35725 'El Paso' ' TX' 'Acura' 'ILX6-Speed' 8 4465.625]\n",
      " [2013 19606 'Long Island City' ' NY' 'Acura' 'ILX5-Speed' 9\n",
      "  2178.4444444444443]\n",
      " [2013 48851 'El Paso' ' TX' 'Acura' 'ILX6-Speed' 9 5427.888888888889]\n",
      " [2014 39922 'Windsor' ' CO' 'Acura' 'ILX5-Speed' 8 4990.25]\n",
      " [2016 22142 'Lindon' ' UT' 'Acura' 'ILXAutomatic' 6 3690.3333333333335]]\n"
     ]
    }
   ],
   "source": [
    "print(t_1)"
   ]
  },
  {
   "cell_type": "code",
   "execution_count": 263,
   "id": "55bb509f",
   "metadata": {},
   "outputs": [
    {
     "name": "stdout",
     "output_type": "stream",
     "text": [
      "<class 'numpy.ndarray'>\n"
     ]
    }
   ],
   "source": [
    "print(type(t_1))"
   ]
  },
  {
   "cell_type": "code",
   "execution_count": 264,
   "id": "1de157f8",
   "metadata": {},
   "outputs": [],
   "source": [
    "t_2=pd.DataFrame(t_1)"
   ]
  },
  {
   "cell_type": "code",
   "execution_count": 265,
   "id": "b7ac8b47",
   "metadata": {},
   "outputs": [],
   "source": [
    "t_2.rename(columns = {0:'Year', \n",
    "                       1:'Mileage',\n",
    "                      2:'City', \n",
    "                       3:'State',\n",
    "                      4:'Make', \n",
    "                       5:'Model',\n",
    "                      6:'Year_used', \n",
    "                       7:'Condition',\n",
    "                                 }, \n",
    "            inplace = True)"
   ]
  },
  {
   "cell_type": "code",
   "execution_count": 266,
   "id": "eaa53750",
   "metadata": {},
   "outputs": [
    {
     "data": {
      "text/html": [
       "<div>\n",
       "<style scoped>\n",
       "    .dataframe tbody tr th:only-of-type {\n",
       "        vertical-align: middle;\n",
       "    }\n",
       "\n",
       "    .dataframe tbody tr th {\n",
       "        vertical-align: top;\n",
       "    }\n",
       "\n",
       "    .dataframe thead th {\n",
       "        text-align: right;\n",
       "    }\n",
       "</style>\n",
       "<table border=\"1\" class=\"dataframe\">\n",
       "  <thead>\n",
       "    <tr style=\"text-align: right;\">\n",
       "      <th></th>\n",
       "      <th>Year</th>\n",
       "      <th>Mileage</th>\n",
       "      <th>City</th>\n",
       "      <th>State</th>\n",
       "      <th>Make</th>\n",
       "      <th>Model</th>\n",
       "      <th>Year_used</th>\n",
       "      <th>Condition</th>\n",
       "    </tr>\n",
       "  </thead>\n",
       "  <tbody>\n",
       "    <tr>\n",
       "      <th>0</th>\n",
       "      <td>2014</td>\n",
       "      <td>35725</td>\n",
       "      <td>El Paso</td>\n",
       "      <td>TX</td>\n",
       "      <td>Acura</td>\n",
       "      <td>ILX6-Speed</td>\n",
       "      <td>8</td>\n",
       "      <td>4465.625</td>\n",
       "    </tr>\n",
       "    <tr>\n",
       "      <th>1</th>\n",
       "      <td>2013</td>\n",
       "      <td>19606</td>\n",
       "      <td>Long Island City</td>\n",
       "      <td>NY</td>\n",
       "      <td>Acura</td>\n",
       "      <td>ILX5-Speed</td>\n",
       "      <td>9</td>\n",
       "      <td>2178.444444</td>\n",
       "    </tr>\n",
       "    <tr>\n",
       "      <th>2</th>\n",
       "      <td>2013</td>\n",
       "      <td>48851</td>\n",
       "      <td>El Paso</td>\n",
       "      <td>TX</td>\n",
       "      <td>Acura</td>\n",
       "      <td>ILX6-Speed</td>\n",
       "      <td>9</td>\n",
       "      <td>5427.888889</td>\n",
       "    </tr>\n",
       "    <tr>\n",
       "      <th>3</th>\n",
       "      <td>2014</td>\n",
       "      <td>39922</td>\n",
       "      <td>Windsor</td>\n",
       "      <td>CO</td>\n",
       "      <td>Acura</td>\n",
       "      <td>ILX5-Speed</td>\n",
       "      <td>8</td>\n",
       "      <td>4990.25</td>\n",
       "    </tr>\n",
       "    <tr>\n",
       "      <th>4</th>\n",
       "      <td>2016</td>\n",
       "      <td>22142</td>\n",
       "      <td>Lindon</td>\n",
       "      <td>UT</td>\n",
       "      <td>Acura</td>\n",
       "      <td>ILXAutomatic</td>\n",
       "      <td>6</td>\n",
       "      <td>3690.333333</td>\n",
       "    </tr>\n",
       "  </tbody>\n",
       "</table>\n",
       "</div>"
      ],
      "text/plain": [
       "   Year Mileage              City State   Make         Model Year_used  \\\n",
       "0  2014   35725           El Paso    TX  Acura    ILX6-Speed         8   \n",
       "1  2013   19606  Long Island City    NY  Acura    ILX5-Speed         9   \n",
       "2  2013   48851           El Paso    TX  Acura    ILX6-Speed         9   \n",
       "3  2014   39922           Windsor    CO  Acura    ILX5-Speed         8   \n",
       "4  2016   22142            Lindon    UT  Acura  ILXAutomatic         6   \n",
       "\n",
       "     Condition  \n",
       "0     4465.625  \n",
       "1  2178.444444  \n",
       "2  5427.888889  \n",
       "3      4990.25  \n",
       "4  3690.333333  "
      ]
     },
     "execution_count": 266,
     "metadata": {},
     "output_type": "execute_result"
    }
   ],
   "source": [
    "t_2"
   ]
  },
  {
   "cell_type": "code",
   "execution_count": 267,
   "id": "2fd9584c",
   "metadata": {},
   "outputs": [
    {
     "data": {
      "text/plain": [
       "array([16630.516, 14015.161, 15525.062, 16008.462, 21360.045],\n",
       "      dtype=float32)"
      ]
     },
     "execution_count": 267,
     "metadata": {},
     "output_type": "execute_result"
    }
   ],
   "source": [
    "lr_che.predict(t_2)"
   ]
  },
  {
   "cell_type": "code",
   "execution_count": null,
   "id": "951f8e9c",
   "metadata": {},
   "outputs": [],
   "source": []
  },
  {
   "cell_type": "markdown",
   "id": "fV9_gHo_PAzp",
   "metadata": {
    "id": "fV9_gHo_PAzp"
   },
   "source": [
    "#Grasdient boosting"
   ]
  },
  {
   "cell_type": "code",
   "execution_count": 37,
   "id": "YzTVjP5GZZ7F",
   "metadata": {
    "id": "YzTVjP5GZZ7F"
   },
   "outputs": [
    {
     "ename": "NotFittedError",
     "evalue": "This GradientBoostingRegressor instance is not fitted yet. Call 'fit' with appropriate arguments before using this estimator.",
     "output_type": "error",
     "traceback": [
      "\u001b[1;31m---------------------------------------------------------------------------\u001b[0m",
      "\u001b[1;31mNotFittedError\u001b[0m                            Traceback (most recent call last)",
      "\u001b[1;32m~\\AppData\\Local\\Temp\\ipykernel_1324\\3824041519.py\u001b[0m in \u001b[0;36m<module>\u001b[1;34m\u001b[0m\n\u001b[0;32m      9\u001b[0m \u001b[1;31m#gbr.fit(X_train_std, y_train)\u001b[0m\u001b[1;33m\u001b[0m\u001b[1;33m\u001b[0m\u001b[0m\n\u001b[0;32m     10\u001b[0m \u001b[1;33m\u001b[0m\u001b[0m\n\u001b[1;32m---> 11\u001b[1;33m \u001b[0my_train_pred\u001b[0m\u001b[1;33m=\u001b[0m\u001b[0mgbr\u001b[0m\u001b[1;33m.\u001b[0m\u001b[0mpredict\u001b[0m\u001b[1;33m(\u001b[0m\u001b[0mX_train_std\u001b[0m\u001b[1;33m)\u001b[0m\u001b[1;33m\u001b[0m\u001b[1;33m\u001b[0m\u001b[0m\n\u001b[0m\u001b[0;32m     12\u001b[0m \u001b[0my_test_pred\u001b[0m\u001b[1;33m=\u001b[0m\u001b[0mgbr\u001b[0m\u001b[1;33m.\u001b[0m\u001b[0mpredict\u001b[0m\u001b[1;33m(\u001b[0m\u001b[0mX_test_std\u001b[0m\u001b[1;33m)\u001b[0m\u001b[1;33m\u001b[0m\u001b[1;33m\u001b[0m\u001b[0m\n\u001b[0;32m     13\u001b[0m \u001b[1;33m\u001b[0m\u001b[0m\n",
      "\u001b[1;32m~\\anaconda3\\lib\\site-packages\\sklearn\\ensemble\\_gb.py\u001b[0m in \u001b[0;36mpredict\u001b[1;34m(self, X)\u001b[0m\n\u001b[0;32m   1879\u001b[0m         )\n\u001b[0;32m   1880\u001b[0m         \u001b[1;31m# In regression we can directly return the raw value from the trees.\u001b[0m\u001b[1;33m\u001b[0m\u001b[1;33m\u001b[0m\u001b[0m\n\u001b[1;32m-> 1881\u001b[1;33m         \u001b[1;32mreturn\u001b[0m \u001b[0mself\u001b[0m\u001b[1;33m.\u001b[0m\u001b[0m_raw_predict\u001b[0m\u001b[1;33m(\u001b[0m\u001b[0mX\u001b[0m\u001b[1;33m)\u001b[0m\u001b[1;33m.\u001b[0m\u001b[0mravel\u001b[0m\u001b[1;33m(\u001b[0m\u001b[1;33m)\u001b[0m\u001b[1;33m\u001b[0m\u001b[1;33m\u001b[0m\u001b[0m\n\u001b[0m\u001b[0;32m   1882\u001b[0m \u001b[1;33m\u001b[0m\u001b[0m\n\u001b[0;32m   1883\u001b[0m     \u001b[1;32mdef\u001b[0m \u001b[0mstaged_predict\u001b[0m\u001b[1;33m(\u001b[0m\u001b[0mself\u001b[0m\u001b[1;33m,\u001b[0m \u001b[0mX\u001b[0m\u001b[1;33m)\u001b[0m\u001b[1;33m:\u001b[0m\u001b[1;33m\u001b[0m\u001b[1;33m\u001b[0m\u001b[0m\n",
      "\u001b[1;32m~\\anaconda3\\lib\\site-packages\\sklearn\\ensemble\\_gb.py\u001b[0m in \u001b[0;36m_raw_predict\u001b[1;34m(self, X)\u001b[0m\n\u001b[0;32m    733\u001b[0m     \u001b[1;32mdef\u001b[0m \u001b[0m_raw_predict\u001b[0m\u001b[1;33m(\u001b[0m\u001b[0mself\u001b[0m\u001b[1;33m,\u001b[0m \u001b[0mX\u001b[0m\u001b[1;33m)\u001b[0m\u001b[1;33m:\u001b[0m\u001b[1;33m\u001b[0m\u001b[1;33m\u001b[0m\u001b[0m\n\u001b[0;32m    734\u001b[0m         \u001b[1;34m\"\"\"Return the sum of the trees raw predictions (+ init estimator).\"\"\"\u001b[0m\u001b[1;33m\u001b[0m\u001b[1;33m\u001b[0m\u001b[0m\n\u001b[1;32m--> 735\u001b[1;33m         \u001b[0mraw_predictions\u001b[0m \u001b[1;33m=\u001b[0m \u001b[0mself\u001b[0m\u001b[1;33m.\u001b[0m\u001b[0m_raw_predict_init\u001b[0m\u001b[1;33m(\u001b[0m\u001b[0mX\u001b[0m\u001b[1;33m)\u001b[0m\u001b[1;33m\u001b[0m\u001b[1;33m\u001b[0m\u001b[0m\n\u001b[0m\u001b[0;32m    736\u001b[0m         \u001b[0mpredict_stages\u001b[0m\u001b[1;33m(\u001b[0m\u001b[0mself\u001b[0m\u001b[1;33m.\u001b[0m\u001b[0mestimators_\u001b[0m\u001b[1;33m,\u001b[0m \u001b[0mX\u001b[0m\u001b[1;33m,\u001b[0m \u001b[0mself\u001b[0m\u001b[1;33m.\u001b[0m\u001b[0mlearning_rate\u001b[0m\u001b[1;33m,\u001b[0m \u001b[0mraw_predictions\u001b[0m\u001b[1;33m)\u001b[0m\u001b[1;33m\u001b[0m\u001b[1;33m\u001b[0m\u001b[0m\n\u001b[0;32m    737\u001b[0m         \u001b[1;32mreturn\u001b[0m \u001b[0mraw_predictions\u001b[0m\u001b[1;33m\u001b[0m\u001b[1;33m\u001b[0m\u001b[0m\n",
      "\u001b[1;32m~\\anaconda3\\lib\\site-packages\\sklearn\\ensemble\\_gb.py\u001b[0m in \u001b[0;36m_raw_predict_init\u001b[1;34m(self, X)\u001b[0m\n\u001b[0;32m    719\u001b[0m     \u001b[1;32mdef\u001b[0m \u001b[0m_raw_predict_init\u001b[0m\u001b[1;33m(\u001b[0m\u001b[0mself\u001b[0m\u001b[1;33m,\u001b[0m \u001b[0mX\u001b[0m\u001b[1;33m)\u001b[0m\u001b[1;33m:\u001b[0m\u001b[1;33m\u001b[0m\u001b[1;33m\u001b[0m\u001b[0m\n\u001b[0;32m    720\u001b[0m         \u001b[1;34m\"\"\"Check input and compute raw predictions of the init estimator.\"\"\"\u001b[0m\u001b[1;33m\u001b[0m\u001b[1;33m\u001b[0m\u001b[0m\n\u001b[1;32m--> 721\u001b[1;33m         \u001b[0mself\u001b[0m\u001b[1;33m.\u001b[0m\u001b[0m_check_initialized\u001b[0m\u001b[1;33m(\u001b[0m\u001b[1;33m)\u001b[0m\u001b[1;33m\u001b[0m\u001b[1;33m\u001b[0m\u001b[0m\n\u001b[0m\u001b[0;32m    722\u001b[0m         \u001b[0mX\u001b[0m \u001b[1;33m=\u001b[0m \u001b[0mself\u001b[0m\u001b[1;33m.\u001b[0m\u001b[0mestimators_\u001b[0m\u001b[1;33m[\u001b[0m\u001b[1;36m0\u001b[0m\u001b[1;33m,\u001b[0m \u001b[1;36m0\u001b[0m\u001b[1;33m]\u001b[0m\u001b[1;33m.\u001b[0m\u001b[0m_validate_X_predict\u001b[0m\u001b[1;33m(\u001b[0m\u001b[0mX\u001b[0m\u001b[1;33m,\u001b[0m \u001b[0mcheck_input\u001b[0m\u001b[1;33m=\u001b[0m\u001b[1;32mTrue\u001b[0m\u001b[1;33m)\u001b[0m\u001b[1;33m\u001b[0m\u001b[1;33m\u001b[0m\u001b[0m\n\u001b[0;32m    723\u001b[0m         \u001b[1;32mif\u001b[0m \u001b[0mself\u001b[0m\u001b[1;33m.\u001b[0m\u001b[0minit_\u001b[0m \u001b[1;33m==\u001b[0m \u001b[1;34m\"zero\"\u001b[0m\u001b[1;33m:\u001b[0m\u001b[1;33m\u001b[0m\u001b[1;33m\u001b[0m\u001b[0m\n",
      "\u001b[1;32m~\\anaconda3\\lib\\site-packages\\sklearn\\ensemble\\_gb.py\u001b[0m in \u001b[0;36m_check_initialized\u001b[1;34m(self)\u001b[0m\n\u001b[0;32m    421\u001b[0m     \u001b[1;32mdef\u001b[0m \u001b[0m_check_initialized\u001b[0m\u001b[1;33m(\u001b[0m\u001b[0mself\u001b[0m\u001b[1;33m)\u001b[0m\u001b[1;33m:\u001b[0m\u001b[1;33m\u001b[0m\u001b[1;33m\u001b[0m\u001b[0m\n\u001b[0;32m    422\u001b[0m         \u001b[1;34m\"\"\"Check that the estimator is initialized, raising an error if not.\"\"\"\u001b[0m\u001b[1;33m\u001b[0m\u001b[1;33m\u001b[0m\u001b[0m\n\u001b[1;32m--> 423\u001b[1;33m         \u001b[0mcheck_is_fitted\u001b[0m\u001b[1;33m(\u001b[0m\u001b[0mself\u001b[0m\u001b[1;33m)\u001b[0m\u001b[1;33m\u001b[0m\u001b[1;33m\u001b[0m\u001b[0m\n\u001b[0m\u001b[0;32m    424\u001b[0m \u001b[1;33m\u001b[0m\u001b[0m\n\u001b[0;32m    425\u001b[0m     \u001b[1;33m@\u001b[0m\u001b[0mabstractmethod\u001b[0m\u001b[1;33m\u001b[0m\u001b[1;33m\u001b[0m\u001b[0m\n",
      "\u001b[1;32m~\\anaconda3\\lib\\site-packages\\sklearn\\utils\\validation.py\u001b[0m in \u001b[0;36mcheck_is_fitted\u001b[1;34m(estimator, attributes, msg, all_or_any)\u001b[0m\n\u001b[0;32m   1220\u001b[0m \u001b[1;33m\u001b[0m\u001b[0m\n\u001b[0;32m   1221\u001b[0m     \u001b[1;32mif\u001b[0m \u001b[1;32mnot\u001b[0m \u001b[0mfitted\u001b[0m\u001b[1;33m:\u001b[0m\u001b[1;33m\u001b[0m\u001b[1;33m\u001b[0m\u001b[0m\n\u001b[1;32m-> 1222\u001b[1;33m         \u001b[1;32mraise\u001b[0m \u001b[0mNotFittedError\u001b[0m\u001b[1;33m(\u001b[0m\u001b[0mmsg\u001b[0m \u001b[1;33m%\u001b[0m \u001b[1;33m{\u001b[0m\u001b[1;34m\"name\"\u001b[0m\u001b[1;33m:\u001b[0m \u001b[0mtype\u001b[0m\u001b[1;33m(\u001b[0m\u001b[0mestimator\u001b[0m\u001b[1;33m)\u001b[0m\u001b[1;33m.\u001b[0m\u001b[0m__name__\u001b[0m\u001b[1;33m}\u001b[0m\u001b[1;33m)\u001b[0m\u001b[1;33m\u001b[0m\u001b[1;33m\u001b[0m\u001b[0m\n\u001b[0m\u001b[0;32m   1223\u001b[0m \u001b[1;33m\u001b[0m\u001b[0m\n\u001b[0;32m   1224\u001b[0m \u001b[1;33m\u001b[0m\u001b[0m\n",
      "\u001b[1;31mNotFittedError\u001b[0m: This GradientBoostingRegressor instance is not fitted yet. Call 'fit' with appropriate arguments before using this estimator."
     ]
    }
   ],
   "source": [
    "# applying gradient boosting\n",
    "gbr_params = {'n_estimators': 1,\n",
    "          'max_depth': 10,\n",
    "          'min_samples_split': 5,\n",
    "          'learning_rate': 0.1,\n",
    "          'loss': 'ls'}\n",
    "\n",
    "gbr = GradientBoostingRegressor(**gbr_params)  \n",
    "#gbr.fit(X_train_std, y_train) \n",
    "\n",
    "y_train_pred=gbr.predict(X_train_std)\n",
    "y_test_pred=gbr.predict(X_test_std)\n",
    "\n",
    "train_acur=gbr.score(X_train_std, y_train)\n",
    "train_acur=train_acur*100\n",
    "test_acur=gbr.score(X_test_std, y_test)\n",
    "test_acur=test_acur*100\n",
    "\n"
   ]
  },
  {
   "cell_type": "code",
   "execution_count": null,
   "id": "3a74c3ee",
   "metadata": {},
   "outputs": [],
   "source": []
  },
  {
   "cell_type": "code",
   "execution_count": null,
   "id": "3dda878c",
   "metadata": {},
   "outputs": [],
   "source": []
  },
  {
   "cell_type": "code",
   "execution_count": null,
   "id": "1e8744dd",
   "metadata": {},
   "outputs": [],
   "source": []
  },
  {
   "cell_type": "code",
   "execution_count": null,
   "id": "84066135",
   "metadata": {},
   "outputs": [],
   "source": []
  },
  {
   "cell_type": "code",
   "execution_count": null,
   "id": "0H59wo-5jIPj",
   "metadata": {
    "colab": {
     "base_uri": "https://localhost:8080/"
    },
    "id": "0H59wo-5jIPj",
    "outputId": "482cbad5-dd43-480e-b451-ac350290fbfa"
   },
   "outputs": [],
   "source": [
    "\n",
    "\n",
    "# printing the model accuracy \n",
    "\n",
    "print(\"GBModel Accuracy Train: %.4f\" % train_acur,'%')\n",
    "\n",
    "print(\"GBModel Accuracy Test: %.4f\" % test_acur,'%')\n",
    "\n",
    "# Create the mean squared error\n",
    "\n",
    "rmse_train = np.sqrt(mean_squared_error(y_train,y_train_pred ))\n",
    "print(\"(RMSE) on train set: {:.4f}\".format(rmse_train))\n",
    "rmse_test = np.sqrt(mean_squared_error(y_test,y_test_pred ))\n",
    "print(\"(RMSE) on test set: {:.4f}\".format(rmse_test))\n",
    "\n",
    "\n",
    "NRMSE_train=rmse_train/(car_data_enc['Price'].max()-car_data_enc['Price'].min())\n",
    "print(\"NRMSE Train: %f\" % (NRMSE_train))\n",
    "NRMSE_test=rmse_test/(car_data_enc['Price'].max()-car_data_enc['Price'].min())\n",
    "print(\"NRMSE Train: %f\" % (NRMSE_test))"
   ]
  },
  {
   "cell_type": "code",
   "execution_count": null,
   "id": "xztg83cI9ROQ",
   "metadata": {
    "colab": {
     "base_uri": "https://localhost:8080/",
     "height": 441
    },
    "id": "xztg83cI9ROQ",
    "outputId": "7ee365a8-fa29-4523-ae9a-4518d74228c7"
   },
   "outputs": [],
   "source": [
    "test_score = np.zeros((gbr_params[\"n_estimators\"],), dtype=np.float64)\n",
    "for i, y_pred in enumerate(gbr.staged_predict(X_test_std)):\n",
    "    test_score[i] = gbr.loss_(y_test, y_pred)\n",
    "\n",
    "fig = plt.figure(figsize=(6, 6))\n",
    "plt.subplot(1, 1, 1)\n",
    "plt.title(\"Deviance\")\n",
    "plt.plot(\n",
    "    np.arange(gbr_params[\"n_estimators\"]) + 1,\n",
    "    gbr.train_score_,\n",
    "    \"b-\",\n",
    "    label=\"Training Set Deviance\",\n",
    ")\n",
    "plt.plot(\n",
    "    np.arange(gbr_params[\"n_estimators\"]) + 1, test_score, \"r-\", label=\"Test Set Deviance\"\n",
    ")\n",
    "plt.legend(loc=\"upper right\")\n",
    "plt.xlabel(\"Boosting Iterations\")\n",
    "plt.ylabel(\"Deviance\")\n",
    "fig.tight_layout()\n",
    "plt.show()"
   ]
  },
  {
   "cell_type": "markdown",
   "id": "Y36gNAZMAtzA",
   "metadata": {
    "id": "Y36gNAZMAtzA"
   },
   "source": [
    "Artificial Neural Network"
   ]
  },
  {
   "cell_type": "code",
   "execution_count": null,
   "id": "e3f732b7",
   "metadata": {},
   "outputs": [],
   "source": [
    "!pip install keras-tuner --upgrade\n",
    "!pip install tensorflow\n",
    "!pip install keras\n"
   ]
  },
  {
   "cell_type": "code",
   "execution_count": null,
   "id": "AFmLwO7QA0Xc",
   "metadata": {
    "id": "AFmLwO7QA0Xc"
   },
   "outputs": [],
   "source": [
    "import pandas as pd\n",
    "from tensorflow import keras\n",
    "from tensorflow.keras import layers\n",
    "from kerastuner.tuners import RandomSearch"
   ]
  },
  {
   "cell_type": "code",
   "execution_count": null,
   "id": "StfFp8b2BKsG",
   "metadata": {
    "colab": {
     "base_uri": "https://localhost:8080/",
     "height": 300
    },
    "id": "StfFp8b2BKsG",
    "outputId": "3f0ad238-00c5-45b7-f677-70acba6cd845"
   },
   "outputs": [],
   "source": [
    "X1=X\n",
    "X1.head()"
   ]
  },
  {
   "cell_type": "code",
   "execution_count": null,
   "id": "bNAbe3UcCM9b",
   "metadata": {
    "colab": {
     "base_uri": "https://localhost:8080/"
    },
    "id": "bNAbe3UcCM9b",
    "outputId": "54e60b10-dadc-4dc7-e580-aa6b4c0a8838"
   },
   "outputs": [],
   "source": [
    "y1=y\n",
    "y1=y1.values.reshape(-1,1)\n",
    "y1.shape"
   ]
  },
  {
   "cell_type": "code",
   "execution_count": null,
   "id": "BuIVJ-A8tEkO",
   "metadata": {
    "id": "BuIVJ-A8tEkO"
   },
   "outputs": [],
   "source": [
    "from sklearn.preprocessing import MinMaxScaler\n",
    "\n",
    "scaler = MinMaxScaler()\n",
    "scaler.fit(X1)\n",
    "X_new = scaler.transform(X1)\n"
   ]
  },
  {
   "cell_type": "code",
   "execution_count": null,
   "id": "yAU9Y6p2hCok",
   "metadata": {
    "id": "yAU9Y6p2hCok"
   },
   "outputs": [],
   "source": [
    "X_train_ch,X_test_ch,y_train_ch,y_test_ch=train_test_split(X_new,y1, train_size=0.9, test_size=0.1,random_state=95)"
   ]
  },
  {
   "cell_type": "code",
   "execution_count": null,
   "id": "lYctGLuTybbp",
   "metadata": {
    "id": "lYctGLuTybbp"
   },
   "outputs": [],
   "source": [
    "from keras.models import Sequential   # \n",
    "from keras.layers import Dense"
   ]
  },
  {
   "cell_type": "code",
   "execution_count": null,
   "id": "cuvfvlugyc5k",
   "metadata": {
    "id": "cuvfvlugyc5k"
   },
   "outputs": [],
   "source": [
    "model = Sequential()\n",
    "#input\n",
    "model.add(Dense(units=2048, input_dim=40, kernel_initializer='normal', activation='relu'))\n",
    "#1\n",
    "model.add(Dense(units=1024, kernel_initializer='normal', activation='relu'))\n",
    "#2\n",
    "model.add(Dense(units=512, kernel_initializer='normal', activation='relu'))\n",
    "#3\n",
    "model.add(Dense(units=256, kernel_initializer='normal', activation='relu'))\n",
    "#4\n",
    "model.add(Dense(units=128, kernel_initializer='normal', activation='relu'))\n",
    "#5\n",
    "model.add(Dense(units=64, kernel_initializer='normal', activation='relu'))\n",
    "#6\n",
    "model.add(Dense(units=32, kernel_initializer='normal', activation='relu'))\n",
    "#7\n",
    "model.add(Dense(units=16, kernel_initializer='normal', activation='relu'))\n",
    "#8\n",
    "model.add(Dense(units=8, kernel_initializer='normal', activation='relu'))\n",
    "#9\n",
    "model.add(Dense(1, kernel_initializer='normal'))\n",
    "\n",
    "model.compile(loss='mean_squared_error', optimizer='adam', metrics = ['mae','mse'])\n",
    "\n",
    "#history=model.fit(X_train_ch, y_train_ch ,batch_size = 1000, epochs = 5)\n",
    "\n"
   ]
  },
  {
   "cell_type": "code",
   "execution_count": null,
   "id": "57715660",
   "metadata": {},
   "outputs": [],
   "source": [
    "test_loss = model.evaluate(X_test_ch,y_test_ch)"
   ]
  },
  {
   "cell_type": "code",
   "execution_count": null,
   "id": "dbc10cd3",
   "metadata": {},
   "outputs": [],
   "source": [
    "import matplotlib.pyplot as plt\n",
    "from matplotlib import pyplot\n",
    "from sklearn import metrics"
   ]
  },
  {
   "cell_type": "code",
   "execution_count": null,
   "id": "144f233f",
   "metadata": {},
   "outputs": [],
   "source": [
    "\n",
    "loss = history.history['loss']\n",
    "acc = history.history['mse']\n",
    "\n",
    "\n",
    "pyplot.plot(history.history['mse'])\n",
    "\n",
    "\n",
    "pyplot.show()\n",
    "epochs = range(1, len(loss)+1)\n",
    "plt.plot(epochs, loss, 'ro', label='Training loss')\n",
    "plt.legend()\n",
    "plt.show()\n",
    "\n",
    "y_pred = model.predict(X_test_ch)\n",
    "\n",
    "plt.plot(y_test_ch, color = 'red', label = 'Real data')\n",
    "plt.plot(y_pred, color = 'blue', label = 'Predicted data')\n",
    "plt.title('Prediction')\n",
    "plt.legend()\n",
    "plt.show()"
   ]
  },
  {
   "cell_type": "code",
   "execution_count": null,
   "id": "044eae2c",
   "metadata": {},
   "outputs": [],
   "source": [
    "\n",
    "# Predict\n",
    "pred = model.predict(X_test_ch)\n",
    "\n",
    "# Measure MSE error.  \n",
    "score = np.sqrt(metrics.mean_squared_error(pred,y_test_ch))\n",
    "print(\"Final score (RMSE): {}\".format(score))"
   ]
  },
  {
   "cell_type": "code",
   "execution_count": null,
   "id": "55132fb2",
   "metadata": {},
   "outputs": [],
   "source": [
    "from sklearn.metrics import r2_score\n",
    "\n",
    "y_train_pred = model.predict(X_train_ch)\n",
    "y_test_pred = model.predict(X_test_ch)\n",
    "\n",
    "# Calculates and prints r2 score of training and testing data\n",
    "print(\"The R2 score on the Train set is:\\t{:0.3f}\".format(r2_score(y_train_ch, y_train_pred)))\n",
    "print(\"The R2 score on the Test set is:\\t{:0.3f}\".format(r2_score(y_test_ch, y_test_pred)))"
   ]
  },
  {
   "cell_type": "code",
   "execution_count": null,
   "id": "5a9db46f",
   "metadata": {},
   "outputs": [],
   "source": [
    "#sns.regplot(y_test_ch, pred)"
   ]
  },
  {
   "cell_type": "code",
   "execution_count": null,
   "id": "1b4416bf",
   "metadata": {},
   "outputs": [],
   "source": [
    "plt.hist(y_test_ch - pred)"
   ]
  },
  {
   "cell_type": "code",
   "execution_count": null,
   "id": "1e521971",
   "metadata": {},
   "outputs": [],
   "source": [
    "predictions = model.predict(X_test_ch[:10])\n",
    "print(\"Predicted values are: \", predictions)\n",
    "print(\"Real values are: \", y_test_ch[:10])"
   ]
  },
  {
   "cell_type": "code",
   "execution_count": null,
   "id": "f95b9054",
   "metadata": {},
   "outputs": [],
   "source": [
    "def chart_regression(pred, y1, sort=True):\n",
    "    t = pd.DataFrame({'pred': pred, 'y': y1.flatten()})\n",
    "    if sort:\n",
    "        t.sort_values(by=['y'], inplace=True)\n",
    "    plt.plot(t['y'].tolist(), label='expected')\n",
    "    plt.plot(t['pred'].tolist(), label='prediction')\n",
    "    plt.ylabel('output')\n",
    "    plt.legend()\n",
    "    plt.show()"
   ]
  },
  {
   "cell_type": "code",
   "execution_count": null,
   "id": "03997463",
   "metadata": {},
   "outputs": [],
   "source": [
    "chart_regression(pred.flatten(),y_test_ch)"
   ]
  },
  {
   "cell_type": "code",
   "execution_count": null,
   "id": "b4b6acb8",
   "metadata": {},
   "outputs": [],
   "source": [
    "model.predict(X_test_ch[:10])"
   ]
  },
  {
   "cell_type": "code",
   "execution_count": null,
   "id": "6eee40a0",
   "metadata": {},
   "outputs": [],
   "source": [
    "#model.save('myModel2.h5')\n",
    "#import tensorflow as tf\n",
    "#new_model = tf.keras.models.load_model('myModel2.h5')"
   ]
  },
  {
   "cell_type": "code",
   "execution_count": null,
   "id": "cb87504b",
   "metadata": {},
   "outputs": [],
   "source": [
    "X_test_ch[:1]"
   ]
  },
  {
   "cell_type": "code",
   "execution_count": null,
   "id": "59136357",
   "metadata": {},
   "outputs": [],
   "source": [
    "#new_model.predict(X_test_ch[:10])"
   ]
  },
  {
   "cell_type": "code",
   "execution_count": null,
   "id": "98a68457",
   "metadata": {},
   "outputs": [],
   "source": [
    "print(X_test_ch[:1])"
   ]
  },
  {
   "cell_type": "code",
   "execution_count": null,
   "id": "8f084775",
   "metadata": {},
   "outputs": [],
   "source": [
    "te=[[0.85714286, 0.19958704 ,0.14285714 ,0.150101 ,  1.       ,  0.,\n",
    "  0.    ,     0.    ,     1.     ,    1.        , 1.    ,     0.,\n",
    "  1.    ,     0.    ,     1.    ,     1.       ,  0.     ,    0.,\n",
    "  1.    ,     0.    ,     0.    ,     1.       ,  1.     ,    1.,\n",
    "  0.    ,     0.    ,     1.    ,     1.      ,   1.     ,    0.,\n",
    "  0.    ,     0.     ,    1.    ,     1.      ,   0.     ,    0.,\n",
    "  1.    ,     0.    ,     1.     ,    0.        ]]"
   ]
  },
  {
   "cell_type": "code",
   "execution_count": null,
   "id": "b50e0832",
   "metadata": {},
   "outputs": [],
   "source": [
    "#new_model.predict(te)"
   ]
  },
  {
   "cell_type": "code",
   "execution_count": null,
   "id": "42a05e2f",
   "metadata": {},
   "outputs": [],
   "source": [
    "new_data=car_data"
   ]
  },
  {
   "cell_type": "code",
   "execution_count": null,
   "id": "9c4525b1",
   "metadata": {},
   "outputs": [],
   "source": [
    "from sklearn.compose import make_column_transformer"
   ]
  },
  {
   "cell_type": "code",
   "execution_count": null,
   "id": "19df201c",
   "metadata": {},
   "outputs": [],
   "source": [
    "new_data.head()"
   ]
  },
  {
   "cell_type": "code",
   "execution_count": null,
   "id": "0e7bc1fa",
   "metadata": {},
   "outputs": [],
   "source": [
    "X_n=new_data.drop(['Price'],1)\n",
    "\n",
    "X_n.head()\n",
    "\n"
   ]
  },
  {
   "cell_type": "code",
   "execution_count": null,
   "id": "e901e43b",
   "metadata": {},
   "outputs": [],
   "source": [
    "scaled_features.head()"
   ]
  },
  {
   "cell_type": "code",
   "execution_count": null,
   "id": "edab1589",
   "metadata": {},
   "outputs": [],
   "source": [
    "y_new=new_data['Price']\n",
    "y_new=y_new.values.reshape(-1,1)"
   ]
  },
  {
   "cell_type": "code",
   "execution_count": null,
   "id": "67e32b05",
   "metadata": {},
   "outputs": [],
   "source": [
    "from sklearn.compose import make_column_transformer\n",
    "import category_encoders as ce\n",
    "col_tra = make_column_transformer((MinMaxScaler(), ['Year', 'Mileage', 'Year_used', 'Condition']),\n",
    "    (ce.BinaryEncoder(),['City','State','Make','Model']))\n",
    "\n",
    "#col_tra = ColumnTransformer([(MinMaxScaler(),['Year', 'Mileage', 'Year_used', 'Condition']),\n",
    " #   (ce.BinaryEncoder(),['City','State','Make','Model'])  ])\n",
    "\n",
    "#transformer = ColumnTransformer(transformers=[\n",
    " #   ('tnf1',MinMaxScaler(),['Year', 'Mileage', 'Year_used', 'Condition']),\n",
    "  #  ('tnf2',ce.BinaryEncoder(),['City','State','Make','Model'])])   \n",
    "    "
   ]
  },
  {
   "cell_type": "code",
   "execution_count": null,
   "id": "f05aeb11",
   "metadata": {},
   "outputs": [],
   "source": [
    "col_tra"
   ]
  },
  {
   "cell_type": "code",
   "execution_count": null,
   "id": "030e6924",
   "metadata": {},
   "outputs": [],
   "source": [
    "col_tra.fit_transform(X_n)\n",
    "#col_tran = transformer.fit_transform(X_n)"
   ]
  },
  {
   "cell_type": "code",
   "execution_count": null,
   "id": "874dd5a3",
   "metadata": {},
   "outputs": [],
   "source": [
    "print(col_tra)"
   ]
  },
  {
   "cell_type": "code",
   "execution_count": null,
   "id": "25e47c6b",
   "metadata": {},
   "outputs": [],
   "source": [
    "from sklearn.pipeline import make_pipeline\n",
    "from sklearn.pipeline import Pipeline"
   ]
  },
  {
   "cell_type": "code",
   "execution_count": null,
   "id": "b15b967f",
   "metadata": {},
   "outputs": [],
   "source": [
    "pipe=make_pipeline(col_tra,model)\n"
   ]
  },
  {
   "cell_type": "code",
   "execution_count": null,
   "id": "f99f30f7",
   "metadata": {},
   "outputs": [],
   "source": [
    "model.summary()"
   ]
  },
  {
   "cell_type": "code",
   "execution_count": null,
   "id": "1e0b38e5",
   "metadata": {},
   "outputs": [],
   "source": [
    "X_new=pd.DataFrame(X_new)\n",
    "X_new.head()"
   ]
  },
  {
   "cell_type": "code",
   "execution_count": null,
   "id": "67f06b5b",
   "metadata": {},
   "outputs": [],
   "source": [
    "model.predict(X_new[:10])"
   ]
  },
  {
   "cell_type": "code",
   "execution_count": null,
   "id": "9e6acde9",
   "metadata": {},
   "outputs": [],
   "source": [
    "X_n.shape"
   ]
  },
  {
   "cell_type": "code",
   "execution_count": null,
   "id": "b37f7578",
   "metadata": {},
   "outputs": [],
   "source": [
    "pipe.predict(X_n[:10])"
   ]
  },
  {
   "cell_type": "code",
   "execution_count": null,
   "id": "5ff58d30",
   "metadata": {},
   "outputs": [],
   "source": [
    "\n",
    "\n"
   ]
  },
  {
   "cell_type": "code",
   "execution_count": null,
   "id": "50119418",
   "metadata": {},
   "outputs": [],
   "source": []
  },
  {
   "cell_type": "code",
   "execution_count": null,
   "id": "a6957eb2",
   "metadata": {},
   "outputs": [],
   "source": []
  },
  {
   "cell_type": "code",
   "execution_count": null,
   "id": "7e5683ea",
   "metadata": {},
   "outputs": [],
   "source": []
  },
  {
   "cell_type": "code",
   "execution_count": null,
   "id": "3495e8ea",
   "metadata": {},
   "outputs": [],
   "source": []
  }
 ],
 "metadata": {
  "accelerator": "GPU",
  "colab": {
   "collapsed_sections": [],
   "name": "Car_predict.ipynb",
   "provenance": []
  },
  "kernelspec": {
   "display_name": "Python 3 (ipykernel)",
   "language": "python",
   "name": "python3"
  },
  "language_info": {
   "codemirror_mode": {
    "name": "ipython",
    "version": 3
   },
   "file_extension": ".py",
   "mimetype": "text/x-python",
   "name": "python",
   "nbconvert_exporter": "python",
   "pygments_lexer": "ipython3",
   "version": "3.9.7"
  }
 },
 "nbformat": 4,
 "nbformat_minor": 5
}
